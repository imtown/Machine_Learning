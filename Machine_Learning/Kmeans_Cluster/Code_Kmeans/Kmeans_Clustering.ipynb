{
 "cells": [
  {
   "cell_type": "markdown",
   "id": "0ea5fcfc",
   "metadata": {},
   "source": [
    "# [Machine Learning] Unsupervised Learning\n",
    "## K-Mean Steps\n",
    "- Step 1: Create and choice K point\n",
    "### $\\begin{Bmatrix}c_i\\end{Bmatrix}(i = 1/K)$\n",
    "- Step 2: Compute distance\n",
    "### $S_i^{(t)} = \\begin{Bmatrix}x_j :||x_j-c_i^{(t)}||||x_j-c_i|| \\text{ for all } i^*=1,...k\\end{Bmatrix}$\n",
    "- Step 3: Update point\n",
    "### $c_i^{(t+1)}=\\frac{1}{|S_i^{(t)}|}\\sum_{(t)}x_j$\n",
    "- Step 4: Re-steps to the perfect point"
   ]
  },
  {
   "cell_type": "markdown",
   "id": "faa5f3d5",
   "metadata": {},
   "source": [
    "## Import Libraries"
   ]
  },
  {
   "cell_type": "code",
   "execution_count": 1,
   "id": "6a0dec88",
   "metadata": {},
   "outputs": [],
   "source": [
    "import numpy as np\n",
    "import pandas as pd\n",
    "import seaborn as sns\n",
    "import matplotlib.pyplot as plt\n",
    "from sklearn.datasets import make_blobs\n",
    "from sklearn.cluster import KMeans\n",
    "from sklearn.metrics import silhouette_samples, silhouette_score\n",
    "import matplotlib.cm as cm"
   ]
  },
  {
   "cell_type": "markdown",
   "id": "1e79d05e",
   "metadata": {},
   "source": [
    "## Example"
   ]
  },
  {
   "cell_type": "code",
   "execution_count": 2,
   "id": "b90c2b7a",
   "metadata": {},
   "outputs": [],
   "source": [
    "x = np.array([1,2,4,5])\n",
    "y = np.array([1,1,3,4])"
   ]
  },
  {
   "cell_type": "code",
   "execution_count": 3,
   "id": "e08e7afb",
   "metadata": {},
   "outputs": [
    {
     "data": {
      "image/png": "[encoded data removed]",
      "text/plain": [
       "<Figure size 432x288 with 1 Axes>"
      ]
     },
     "metadata": {
      "needs_background": "light"
     },
     "output_type": "display_data"
    }
   ],
   "source": [
    "plt.scatter(x,y,c=['r','b','g','c']);"
   ]
  },
  {
   "cell_type": "markdown",
   "id": "05e91ad4",
   "metadata": {},
   "source": [
    "### Step 1: Create and choice K point\n",
    "$c_1(1,1)= R \\text{ and } c_2(2,1) = B$"
   ]
  },
  {
   "cell_type": "markdown",
   "id": "7983d67a",
   "metadata": {},
   "source": [
    "### Step 2: Compute distance\n",
    "- $d(G,c_1) = (4-1)^2 + (3-1)^2$\n",
    "$= 13$\n",
    "- $d(G,c_2) = (4-2)^2 + (3-1)^2$\n",
    "$= 8$\n",
    "\n",
    "d$(G,c_1) > d(G,c_2) \\text{ G belong 2 cluster}$\n",
    "\n",
    "- $d(C,c_1) = (5-1)^2 + (4-1)^2$\n",
    "$= 25$\n",
    "- $d(C,c_2) = (5-2)^2 + (4-1)^2$\n",
    "$= 18$\n",
    "\n",
    "d$(C,c_1) > d(C,c_2) \\text{ G belong 2 cluster}$\n"
   ]
  },
  {
   "cell_type": "markdown",
   "id": "e728b465",
   "metadata": {},
   "source": [
    "### Step 3: Update point\n",
    "$\\text {Central 1 } c_1 = B(1,1)$\n",
    "\n",
    "$\\text {Central 2 }c_2 (x,y) = \\frac{2+4+5}{3}.\\frac{1+3+4}{3}$"
   ]
  },
  {
   "cell_type": "markdown",
   "id": "8596455b",
   "metadata": {},
   "source": [
    "### Step 4: Re-steps to the perfect point\n",
    "$d(R,c_1) = 0 < d(R,c_2) = 9.89$\n",
    "\n",
    "$\\text {R belong 1 cluster}$\n",
    "\n",
    "$d(B,c_1) = 1 < d(B,c_2) = 5.56$\n",
    "\n",
    "$\\text {B belong 1 cluster}$\n",
    "\n",
    "$d(G,c_1) = 13 > d(G,c_2) = 0.22$\n",
    "\n",
    "$\\text {G belong 2 cluster}$\n",
    "\n",
    "$d(C,c_1) = 25 > d(C,c_2) = 3.56$\n",
    "\n",
    "$\\text {C belong 2 cluster}$"
   ]
  },
  {
   "cell_type": "markdown",
   "id": "e1b7cb3d",
   "metadata": {},
   "source": [
    "## Elbow\n",
    "\n",
    "$d(p,q)^2 = (q_1 - p_1)^2 + (q_2 - p_2)^2$\n",
    "\n",
    "The average squared distance between the cluster center and cluster's other points"
   ]
  },
  {
   "cell_type": "code",
   "execution_count": 4,
   "id": "a6930e2d",
   "metadata": {},
   "outputs": [],
   "source": [
    "# Generate dataset\n",
    "ds = make_blobs(n_samples=200,\n",
    "                centers=4,\n",
    "                cluster_std=1.6,\n",
    "                random_state=42)"
   ]
  },
  {
   "cell_type": "code",
   "execution_count": 5,
   "id": "c1622508",
   "metadata": {},
   "outputs": [
    {
     "data": {
      "text/plain": [
       "(array([[ 7.62511805e+00,  2.73130236e+00],\n",
       "        [-6.70078979e+00,  1.03293301e+01],\n",
       "        [-8.85792259e+00,  5.88791592e+00],\n",
       "        [-1.11552627e+01,  5.07158088e+00],\n",
       "        [-7.82261080e+00, -5.52074624e+00],\n",
       "        [-5.68395742e+00, -5.90351717e+00],\n",
       "        [ 4.33210129e+00,  2.45564543e+00],\n",
       "        [-9.59198905e+00,  7.69480282e+00],\n",
       "        [ 4.21642790e+00,  6.32544035e+00],\n",
       "        [-5.57904780e+00, -5.87270345e+00],\n",
       "        [-8.36271595e+00, -6.97535016e+00],\n",
       "        [ 5.00381473e+00,  4.06459809e+00],\n",
       "        [ 6.37276083e+00,  3.65925297e+00],\n",
       "        [-7.65620887e+00, -6.74911097e+00],\n",
       "        [-1.01198553e+01, -6.58178269e+00],\n",
       "        [-8.20601921e+00, -7.77639926e+00],\n",
       "        [-2.62441382e+00,  1.06199388e+01],\n",
       "        [-1.01538804e+01,  7.71342245e+00],\n",
       "        [-5.78161089e+00, -9.46045499e+00],\n",
       "        [-4.34200029e+00, -8.86061439e+00],\n",
       "        [-3.48417728e+00, -5.22816518e+00],\n",
       "        [-7.63953969e+00, -7.92543637e+00],\n",
       "        [-8.32197806e+00,  5.99995341e+00],\n",
       "        [-2.40115250e+00,  6.73468903e+00],\n",
       "        [-7.74720300e+00,  6.82709610e+00],\n",
       "        [-3.59227282e+00,  9.99296819e+00],\n",
       "        [-4.35078735e+00,  9.61540296e+00],\n",
       "        [-7.12248334e+00, -5.93880206e+00],\n",
       "        [-2.17501587e+00,  5.87881393e+00],\n",
       "        [ 2.66075770e+00, -1.39560897e-01],\n",
       "        [-9.31061914e+00, -7.65488411e+00],\n",
       "        [-3.17617348e+00, -9.86773390e+00],\n",
       "        [-1.15793430e+01,  9.48971871e+00],\n",
       "        [-1.01591233e+01,  6.80930557e+00],\n",
       "        [-1.93096465e+00,  1.14751446e+01],\n",
       "        [ 4.79932102e+00,  1.16760864e+00],\n",
       "        [-8.17763743e+00,  6.42156363e+00],\n",
       "        [ 5.57885019e+00,  5.47789869e+00],\n",
       "        [-8.44638124e+00,  6.51241383e+00],\n",
       "        [-2.36238038e+00,  5.83417586e+00],\n",
       "        [-8.80010144e+00, -7.41531157e+00],\n",
       "        [-3.80278739e+00,  8.21147486e+00],\n",
       "        [-8.45004103e+00, -6.14074403e+00],\n",
       "        [-4.26776910e+00, -9.16833580e+00],\n",
       "        [-1.01474808e+01,  1.06713426e+01],\n",
       "        [ 5.64094659e+00,  6.01717594e-01],\n",
       "        [ 3.21665575e+00,  6.67873228e-01],\n",
       "        [-6.76794386e+00, -7.49661135e+00],\n",
       "        [ 2.43560785e+00,  4.72649620e-01],\n",
       "        [-1.04455423e+00,  9.54028790e+00],\n",
       "        [-5.33464306e+00,  6.03024566e+00],\n",
       "        [-3.38020998e+00,  9.19176227e+00],\n",
       "        [-6.95122356e+00,  6.57284187e+00],\n",
       "        [ 5.90552995e+00,  5.18149756e-01],\n",
       "        [-4.87483281e+00,  7.86253539e+00],\n",
       "        [-3.47192820e+00,  1.19779312e+01],\n",
       "        [-3.46677379e+00, -1.00034501e+01],\n",
       "        [-7.28373623e+00, -8.87656268e+00],\n",
       "        [-3.63248257e+00,  8.49002669e+00],\n",
       "        [ 2.73379324e+00,  3.02365546e+00],\n",
       "        [-7.31764962e+00,  6.40047707e+00],\n",
       "        [ 3.16880006e+00,  4.45306473e+00],\n",
       "        [-5.44026739e+00, -6.38843036e+00],\n",
       "        [-8.86875369e+00,  5.71947593e+00],\n",
       "        [-7.44261474e+00,  7.61687012e+00],\n",
       "        [-6.56113168e+00, -7.84045660e+00],\n",
       "        [ 2.94019289e+00,  2.73091757e+00],\n",
       "        [-1.19312576e+00,  7.06093629e+00],\n",
       "        [-7.27813618e+00,  7.08823111e+00],\n",
       "        [-1.32765110e+00,  9.28847538e+00],\n",
       "        [-1.99066327e+00,  8.39815448e+00],\n",
       "        [-8.47977979e+00,  7.34367076e+00],\n",
       "        [-3.96203614e+00,  6.75460021e+00],\n",
       "        [-7.93848553e+00, -5.51621626e+00],\n",
       "        [ 6.88434973e+00, -2.69792017e-01],\n",
       "        [-6.05557076e+00, -6.05805207e+00],\n",
       "        [ 2.92645084e+00,  2.74512555e+00],\n",
       "        [-3.26035664e+00,  9.88238220e+00],\n",
       "        [-6.05555089e+00, -7.15739208e-01],\n",
       "        [-3.27587640e+00,  8.71723177e+00],\n",
       "        [-2.53079318e+00,  7.32194864e+00],\n",
       "        [ 4.98242883e+00, -2.00123620e-02],\n",
       "        [-1.20656549e+01, -8.51912982e+00],\n",
       "        [-8.31966159e+00,  7.11529403e+00],\n",
       "        [-8.68313421e+00,  8.27577416e+00],\n",
       "        [-7.96297195e+00,  7.00001467e+00],\n",
       "        [-8.82993784e+00,  7.39869187e+00],\n",
       "        [-2.36992231e+00,  8.53587437e+00],\n",
       "        [ 4.73301279e+00,  1.44417207e-01],\n",
       "        [-9.18661768e+00,  9.08156588e+00],\n",
       "        [-6.80671225e+00, -7.92267015e+00],\n",
       "        [-4.77379081e+00,  8.34125361e+00],\n",
       "        [ 2.15881735e+00,  2.08287044e+00],\n",
       "        [ 4.58434000e+00,  1.03284824e-01],\n",
       "        [ 4.66068186e+00,  4.29882421e+00],\n",
       "        [-9.98783851e+00,  6.98200747e+00],\n",
       "        [-3.85194566e+00,  8.51954633e+00],\n",
       "        [ 5.04066740e+00,  2.52748682e+00],\n",
       "        [-6.16951611e+00, -5.64069511e+00],\n",
       "        [-3.13657067e+00,  6.67266221e+00],\n",
       "        [-6.74956167e+00,  7.35712906e+00],\n",
       "        [-9.55843251e+00,  8.32008281e+00],\n",
       "        [-3.05754085e+00,  7.73064250e+00],\n",
       "        [-7.21262279e+00, -7.66891109e+00],\n",
       "        [-2.03540518e+00,  9.43197456e+00],\n",
       "        [ 4.28233838e+00,  3.11557047e+00],\n",
       "        [-8.00737333e+00,  9.77590518e+00],\n",
       "        [-7.38405798e+00, -5.66575884e+00],\n",
       "        [-5.01856519e+00, -6.86373670e+00],\n",
       "        [-1.13894120e+01,  6.36452288e+00],\n",
       "        [ 5.05569131e+00,  3.22408628e+00],\n",
       "        [-6.07164754e+00, -5.49490128e+00],\n",
       "        [-1.95940836e+00,  6.19342188e+00],\n",
       "        [-7.73409737e+00,  6.68157016e+00],\n",
       "        [-3.35681395e+00,  9.83551402e+00],\n",
       "        [-1.22365609e+01,  6.48231488e+00],\n",
       "        [-6.51649798e+00,  8.85835624e+00],\n",
       "        [-5.26906616e+00,  8.11462608e+00],\n",
       "        [-3.24621966e+00,  1.07056817e+01],\n",
       "        [-2.69423487e+00,  8.53252022e+00],\n",
       "        [-5.39323582e+00,  6.09576681e+00],\n",
       "        [-4.05490041e+00, -6.23213886e+00],\n",
       "        [ 3.05502072e+00,  1.06709332e+00],\n",
       "        [-8.71704046e+00,  6.24006418e+00],\n",
       "        [-8.29151820e+00,  1.03253963e+01],\n",
       "        [ 3.92545491e+00,  3.34340775e+00],\n",
       "        [-1.97917613e+00,  1.05751583e+01],\n",
       "        [ 5.94150638e+00,  3.78677765e-03],\n",
       "        [ 3.22570694e+00,  2.21912985e+00],\n",
       "        [-8.59598387e-01,  1.05043343e+01],\n",
       "        [-5.35322437e+00, -5.83788359e+00],\n",
       "        [-6.91306974e+00, -6.69238578e+00],\n",
       "        [-1.64159593e-01,  8.65304405e+00],\n",
       "        [-8.79911148e+00,  8.12032018e+00],\n",
       "        [-1.01818827e+01,  6.36449468e+00],\n",
       "        [ 6.18128064e+00,  2.63361917e+00],\n",
       "        [-6.77677916e+00, -8.60450124e+00],\n",
       "        [-3.44931665e+00, -5.86583916e+00],\n",
       "        [-2.35387354e+00,  1.05641181e+01],\n",
       "        [-4.85256935e+00, -8.01238074e+00],\n",
       "        [ 1.56984489e+00,  1.93074748e+00],\n",
       "        [-4.12972742e+00,  9.51708186e+00],\n",
       "        [-1.09507009e+01,  1.02538569e+01],\n",
       "        [ 2.06790566e+00,  2.26858386e+00],\n",
       "        [ 4.51651610e+00,  2.51901284e+00],\n",
       "        [-4.63429530e+00,  9.32926411e+00],\n",
       "        [ 3.55183928e+00,  2.34477560e+00],\n",
       "        [-7.46607236e+00,  7.06762127e+00],\n",
       "        [-6.69799944e+00, -5.82070051e+00],\n",
       "        [-7.58369837e+00, -6.67092467e+00],\n",
       "        [-4.27933358e+00,  7.10035553e+00],\n",
       "        [-8.86794877e+00,  6.86166909e+00],\n",
       "        [ 5.95517509e+00,  5.00803846e+00],\n",
       "        [-9.02159151e+00,  9.30402901e+00],\n",
       "        [-8.11614753e+00, -7.25901936e+00],\n",
       "        [-6.98535036e+00,  8.59018323e+00],\n",
       "        [-1.04479556e+01,  5.38082114e+00],\n",
       "        [ 5.05195946e+00,  1.85405622e+00],\n",
       "        [ 5.39705904e+00,  1.85664342e+00],\n",
       "        [ 6.49363176e+00,  6.60077975e-01],\n",
       "        [-1.20915631e+00,  1.11842702e+01],\n",
       "        [ 4.24725785e+00,  7.67191821e-01],\n",
       "        [ 5.21233861e+00,  2.87042493e+00],\n",
       "        [-9.01234399e+00,  7.96626167e+00],\n",
       "        [-2.86067264e+00,  9.58566624e+00],\n",
       "        [-5.96620237e+00, -5.06320457e+00],\n",
       "        [ 5.10879479e+00,  8.30207415e-01],\n",
       "        [ 3.38667357e+00,  1.45787126e+00],\n",
       "        [-6.43004020e+00, -7.87642882e+00],\n",
       "        [ 5.08258412e+00,  3.29666288e+00],\n",
       "        [-6.79406392e+00,  6.37700869e+00],\n",
       "        [-2.50101609e+00,  8.63894671e+00],\n",
       "        [-8.02411313e+00, -5.79275319e+00],\n",
       "        [-6.30840241e+00, -7.98876495e+00],\n",
       "        [ 6.46839534e+00,  3.17626254e+00],\n",
       "        [-4.57358993e+00, -9.17748904e+00],\n",
       "        [ 4.73624717e+00,  5.91435706e+00],\n",
       "        [-3.47021953e+00,  8.54757613e+00],\n",
       "        [-2.76725476e+00,  9.66076750e+00],\n",
       "        [-8.89704152e+00, -5.41153048e+00],\n",
       "        [-3.25066593e+00,  8.26911852e+00],\n",
       "        [-8.14766037e+00, -7.06368790e+00],\n",
       "        [-8.68204600e+00,  6.08670726e+00],\n",
       "        [-7.83973605e+00,  8.32887573e+00],\n",
       "        [-7.51766160e+00,  8.62513833e+00],\n",
       "        [-1.44567151e-01,  8.18505378e+00],\n",
       "        [ 5.47498534e+00,  2.44834516e+00],\n",
       "        [ 4.91696832e+00,  2.58967749e+00],\n",
       "        [ 3.28500889e+00, -4.50585876e-01],\n",
       "        [-2.56651929e+00,  1.15177160e+01],\n",
       "        [-1.93057998e+00,  7.98209452e+00],\n",
       "        [-8.04821380e+00, -6.53377585e+00],\n",
       "        [-1.02757912e+01,  8.11059359e+00],\n",
       "        [-1.00529400e+01,  7.56415297e+00],\n",
       "        [-2.12205799e+00,  5.95303774e+00],\n",
       "        [-8.34087565e+00,  9.68409286e+00],\n",
       "        [ 7.65777628e+00,  2.25249418e+00],\n",
       "        [ 1.75428818e-02,  1.02421817e+01],\n",
       "        [-7.63471818e+00, -5.13778864e+00],\n",
       "        [ 3.08038816e+00,  3.23250505e+00]]),\n",
       " array([1, 0, 3, 3, 2, 2, 1, 3, 1, 2, 2, 1, 1, 2, 2, 2, 0, 3, 2, 2, 2, 2,\n",
       "        3, 0, 3, 0, 0, 2, 0, 1, 2, 2, 3, 3, 0, 1, 3, 1, 3, 0, 2, 0, 2, 2,\n",
       "        3, 1, 1, 2, 1, 0, 3, 0, 3, 1, 0, 0, 2, 2, 0, 1, 3, 1, 2, 3, 3, 2,\n",
       "        1, 0, 3, 0, 0, 3, 0, 2, 1, 2, 1, 0, 2, 0, 0, 1, 2, 3, 3, 3, 3, 0,\n",
       "        1, 3, 2, 0, 1, 1, 1, 3, 0, 1, 2, 0, 3, 3, 0, 2, 0, 1, 3, 2, 2, 3,\n",
       "        1, 2, 0, 3, 0, 3, 3, 0, 0, 0, 3, 2, 1, 3, 3, 1, 0, 1, 1, 0, 2, 2,\n",
       "        0, 3, 3, 1, 2, 2, 0, 2, 1, 0, 3, 1, 1, 0, 1, 3, 2, 2, 0, 3, 1, 3,\n",
       "        2, 3, 3, 1, 1, 1, 0, 1, 1, 3, 0, 2, 1, 1, 2, 1, 3, 0, 2, 2, 1, 2,\n",
       "        1, 0, 0, 2, 0, 2, 3, 3, 3, 0, 1, 1, 1, 0, 0, 2, 3, 3, 0, 3, 1, 0,\n",
       "        2, 1]))"
      ]
     },
     "execution_count": 5,
     "metadata": {},
     "output_type": "execute_result"
    }
   ],
   "source": [
    "ds"
   ]
  },
  {
   "cell_type": "code",
   "execution_count": 6,
   "id": "5726fa27",
   "metadata": {},
   "outputs": [],
   "source": [
    "point = ds[0]"
   ]
  },
  {
   "cell_type": "code",
   "execution_count": 7,
   "id": "2e8de6a6",
   "metadata": {},
   "outputs": [],
   "source": [
    "# Create Kmeans objects\n",
    "kmeans = KMeans(n_clusters=4)"
   ]
  },
  {
   "cell_type": "code",
   "execution_count": 8,
   "id": "5abd2e64",
   "metadata": {},
   "outputs": [
    {
     "data": {
      "text/plain": [
       "KMeans(n_clusters=4)"
      ]
     },
     "execution_count": 8,
     "metadata": {},
     "output_type": "execute_result"
    }
   ],
   "source": [
    "# fit the KMeans object to the dataset\n",
    "kmeans.fit(point)"
   ]
  },
  {
   "cell_type": "code",
   "execution_count": 9,
   "id": "6f032ec3",
   "metadata": {},
   "outputs": [
    {
     "data": {
      "image/png": "[encoded data removed]",
      "text/plain": [
       "<Figure size 432x288 with 1 Axes>"
      ]
     },
     "metadata": {
      "needs_background": "light"
     },
     "output_type": "display_data"
    }
   ],
   "source": [
    "plt.scatter(ds[0][:,0], ds[0][:,1]);"
   ]
  },
  {
   "cell_type": "code",
   "execution_count": 10,
   "id": "3b510247",
   "metadata": {},
   "outputs": [],
   "source": [
    "clusters = kmeans.cluster_centers_"
   ]
  },
  {
   "cell_type": "code",
   "execution_count": 11,
   "id": "bc5a25c1",
   "metadata": {},
   "outputs": [
    {
     "data": {
      "text/plain": [
       "array([[-8.65709326,  7.51452043],\n",
       "       [ 4.55059552,  2.24512923],\n",
       "       [-6.6786171 , -6.89505223],\n",
       "       [-2.73756192,  8.80555885]])"
      ]
     },
     "execution_count": 11,
     "metadata": {},
     "output_type": "execute_result"
    }
   ],
   "source": [
    "# print the cluster\n",
    "clusters"
   ]
  },
  {
   "cell_type": "code",
   "execution_count": 12,
   "id": "fef3185c",
   "metadata": {},
   "outputs": [],
   "source": [
    "y_km = kmeans.fit_predict(point)"
   ]
  },
  {
   "cell_type": "code",
   "execution_count": 13,
   "id": "9d7aa996",
   "metadata": {},
   "outputs": [
    {
     "data": {
      "text/plain": [
       "array([2, 0, 0, 0, 1, 1, 2, 0, 2, 1, 1, 2, 2, 1, 1, 1, 3, 0, 1, 1, 1, 1,\n",
       "       0, 3, 0, 3, 3, 1, 3, 2, 1, 1, 0, 0, 3, 2, 0, 2, 0, 3, 1, 3, 1, 1,\n",
       "       0, 2, 2, 1, 2, 3, 0, 3, 0, 2, 3, 3, 1, 1, 3, 2, 0, 2, 1, 0, 0, 1,\n",
       "       2, 3, 0, 3, 3, 0, 3, 1, 2, 1, 2, 3, 1, 3, 3, 2, 1, 0, 0, 0, 0, 3,\n",
       "       2, 0, 1, 3, 2, 2, 2, 0, 3, 2, 1, 3, 0, 0, 3, 1, 3, 2, 0, 1, 1, 0,\n",
       "       2, 1, 3, 0, 3, 0, 0, 3, 3, 3, 0, 1, 2, 0, 0, 2, 3, 2, 2, 3, 1, 1,\n",
       "       3, 0, 0, 2, 1, 1, 3, 1, 2, 3, 0, 2, 2, 3, 2, 0, 1, 1, 3, 0, 2, 0,\n",
       "       1, 0, 0, 2, 2, 2, 3, 2, 2, 0, 3, 1, 2, 2, 1, 2, 0, 3, 1, 1, 2, 1,\n",
       "       2, 3, 3, 1, 3, 1, 0, 0, 0, 3, 2, 2, 2, 3, 3, 1, 0, 0, 3, 0, 2, 3,\n",
       "       1, 2], dtype=int32)"
      ]
     },
     "execution_count": 13,
     "metadata": {},
     "output_type": "execute_result"
    }
   ],
   "source": [
    "y_km"
   ]
  },
  {
   "cell_type": "code",
   "execution_count": 14,
   "id": "3bab74c9",
   "metadata": {
    "scrolled": true
   },
   "outputs": [
    {
     "data": {
      "text/plain": [
       "<matplotlib.collections.PathCollection at 0x122ccaa60>"
      ]
     },
     "execution_count": 14,
     "metadata": {},
     "output_type": "execute_result"
    },
    {
     "data": {
      "image/png": "[encoded data removed]",
      "text/plain": [
       "<Figure size 432x288 with 1 Axes>"
      ]
     },
     "metadata": {
      "needs_background": "light"
     },
     "output_type": "display_data"
    }
   ],
   "source": [
    "plt.scatter(point[y_km==0,0], point[y_km==0,1], s=50, color='r');\n",
    "plt.scatter(point[y_km==1,0], point[y_km==1,1], s=50, color='g');\n",
    "plt.scatter(point[y_km==2,0], point[y_km==2,1], s=50, color='b');\n",
    "plt.scatter(point[y_km==3,0], point[y_km==3,1], s=50, color='c');\n",
    "\n",
    "plt.scatter(clusters[0][0], clusters[0][1], marker='*', s=200, color='black')\n",
    "plt.scatter(clusters[1][0], clusters[1][1], marker='*', s=200, color='black')\n",
    "plt.scatter(clusters[2][0], clusters[2][1], marker='*', s=200, color='black')\n",
    "plt.scatter(clusters[3][0], clusters[3][1], marker='*', s=200, color='black')"
   ]
  },
  {
   "cell_type": "code",
   "execution_count": 15,
   "id": "8521ef85",
   "metadata": {},
   "outputs": [
    {
     "data": {
      "text/plain": [
       "<AxesSubplot:title={'center':'The Elbow Method'}, xlabel='k', ylabel='SSE'>"
      ]
     },
     "execution_count": 15,
     "metadata": {},
     "output_type": "execute_result"
    },
    {
     "data": {
      "image/png": "[encoded data removed]",
      "text/plain": [
       "<Figure size 432x288 with 1 Axes>"
      ]
     },
     "metadata": {
      "needs_background": "light"
     },
     "output_type": "display_data"
    }
   ],
   "source": [
    "# Elbow plot\n",
    "from sklearn.cluster import KMeans\n",
    "\n",
    "sse = {}\n",
    "for k in range(1, 11):\n",
    "    kmeans = KMeans(n_clusters=k, random_state=42)\n",
    "    kmeans.fit(point)\n",
    "    sse[k] = kmeans.inertia_ \n",
    "    \n",
    "plt.title('The Elbow Method')\n",
    "plt.xlabel('k')\n",
    "plt.ylabel('SSE')\n",
    "sns.pointplot(x=list(sse.keys()), y=list(sse.values()))"
   ]
  },
  {
   "cell_type": "markdown",
   "id": "2ae04881",
   "metadata": {},
   "source": [
    "## Silhousette\n",
    "\n",
    "\n",
    "$a(i) = \\frac{1}{|A|-1}\\sum_{j∈Aj≠i}d(i,j)$\n",
    "\n",
    "=> The average dissimilarity of i to all other objects of A\n",
    "\n",
    "$d(i,C) = \\frac{1}{|C|}\\sum_{j∈C}d(i,j)$\n",
    "\n",
    "=> The average dissimilarity of i to all objects of A\n",
    "\n",
    "The Silhousette valuevaluee s(i) of the object i is given by:\n",
    "\n",
    "$cs(i) = \\frac{b(i)-b(a)}{max(a(i),b(i))}$\n",
    "\n",
    "-1 ≥ s(i) ≤ +1\n",
    "\n",
    "s(i) ~ 1/0/+1 bad/indifferent/good assignment"
   ]
  },
  {
   "cell_type": "code",
   "execution_count": 16,
   "id": "9ee51475",
   "metadata": {},
   "outputs": [],
   "source": [
    "X, y = make_blobs(n_samples=200,\n",
    "                  centers=4,\n",
    "                  cluster_std=1.6,\n",
    "                  random_state=42)\n",
    "\n",
    "range_n_clusters = np.arange(2,6)"
   ]
  },
  {
   "cell_type": "code",
   "execution_count": 17,
   "id": "ca391958",
   "metadata": {
    "scrolled": false
   },
   "outputs": [
    {
     "name": "stdout",
     "output_type": "stream",
     "text": [
      "k = 2. The average silhouette_score = 0.5620607109970064\n",
      "k = 3. The average silhouette_score = 0.694850573911395\n",
      "k = 4. The average silhouette_score = 0.6675590486790348\n",
      "k = 5. The average silhouette_score = 0.5539515014070333\n"
     ]
    },
    {
     "data": {
      "image/png": "[encoded data removed]",
      "text/plain": [
       "<Figure size 1296x504 with 2 Axes>"
      ]
     },
     "metadata": {
      "needs_background": "light"
     },
     "output_type": "display_data"
    },
    {
     "data": {
      "image/png": "[encoded data removed]",
      "text/plain": [
       "<Figure size 1296x504 with 2 Axes>"
      ]
     },
     "metadata": {
      "needs_background": "light"
     },
     "output_type": "display_data"
    },
    {
     "data": {
      "image/png": "[encoded data removed]",
      "text/plain": [
       "<Figure size 1296x504 with 2 Axes>"
      ]
     },
     "metadata": {
      "needs_background": "light"
     },
     "output_type": "display_data"
    },
    {
     "data": {
      "image/png": "[encoded data removed]",
      "text/plain": [
       "<Figure size 1296x504 with 2 Axes>"
      ]
     },
     "metadata": {
      "needs_background": "light"
     },
     "output_type": "display_data"
    }
   ],
   "source": [
    "for n_clusters in range_n_clusters:\n",
    "    # Create a subplot with 1 row and 2 columns\n",
    "    fig, (ax1, ax2) = plt.subplots(1, 2)\n",
    "    fig.set_size_inches(18, 7)\n",
    "\n",
    "    clusterer = KMeans(n_clusters=n_clusters, random_state=10)\n",
    "    cluster_labels = clusterer.fit_predict(X)\n",
    "\n",
    "    silhouette_avg = silhouette_score(X, cluster_labels)\n",
    "    print(f'k = {n_clusters}. The average silhouette_score = {silhouette_avg}')\n",
    "\n",
    "    # Compute the silhouette scores for each sample\n",
    "    sample_silhouette_values = silhouette_samples(X, cluster_labels)\n",
    "\n",
    "    y_lower = 10\n",
    "    \n",
    "    for i in range(n_clusters):\n",
    "        # Aggregate the silhouette scores for samples belonging to\n",
    "        # cluster i, and sort them\n",
    "        ith_cluster_silhouette_values = \\\n",
    "            sample_silhouette_values[cluster_labels == i]\n",
    "\n",
    "        ith_cluster_silhouette_values.sort()\n",
    "\n",
    "        size_cluster_i = ith_cluster_silhouette_values.shape[0]\n",
    "        y_upper = y_lower + size_cluster_i\n",
    "\n",
    "        color = cm.nipy_spectral(float(i) / n_clusters)\n",
    "        ax1.fill_betweenx(np.arange(y_lower, y_upper),\n",
    "                          0, ith_cluster_silhouette_values,\n",
    "                          facecolor=color, edgecolor=color, alpha=0.7)\n",
    "\n",
    "        # Label the silhouette plots with their cluster numbers at the middle\n",
    "        ax1.text(-0.05, y_lower + 0.5 * size_cluster_i, str(i))\n",
    "\n",
    "        # Compute the new y_lower for next plot\n",
    "        y_lower = y_upper + 10  # 10 for the 0 samples\n",
    "\n",
    "    ax1.set_title(\"The silhouette plot for the various clusters.\")\n",
    "    ax1.set_xlabel(\"The silhouette coefficient values\")\n",
    "    ax1.set_ylabel(\"Cluster label\")\n",
    "\n",
    "    # The vertical line for average silhouette score of all the values\n",
    "    ax1.axvline(x=silhouette_avg, color=\"red\", linestyle=\"--\")\n",
    "\n",
    "    #ax1.set_yticks([])  # Clear the yaxis labels / ticks\n",
    "    ax1.set_xticks([-0.1, 0, 0.2, 0.4, 0.6, 0.8, 1])\n",
    "\n",
    "    # 2nd Plot showing the actual clusters formed\n",
    "    colors = cm.nipy_spectral(cluster_labels.astype(float) / n_clusters)\n",
    "    ax2.scatter(X[:, 0], X[:, 1], \n",
    "                marker='.', s=30, lw=0, alpha=0.5,\n",
    "                c=colors, edgecolor='k')\n",
    "\n",
    "    # Labeling the clusters\n",
    "    centers = clusterer.cluster_centers_\n",
    "    # Draw white circles at cluster centers\n",
    "    ax2.scatter(centers[:, 0], centers[:, 1], marker='o', c=\"white\", s=200, edgecolor='k')\n",
    "    \n",
    "    for i, c in enumerate(centers):\n",
    "        ax2.scatter(c[0], c[1], marker='$%d$' % i, s=50, edgecolor='k')\n",
    "\n",
    "    ax2.set_title(\"Sample data\")\n",
    "\n",
    "    plt.suptitle((\"k = %d\" % n_clusters), fontsize=14, fontweight='bold')"
   ]
  },
  {
   "cell_type": "markdown",
   "id": "175e0e05",
   "metadata": {},
   "source": [
    "# KMeans Clustering with Customer Segmentation Project"
   ]
  },
  {
   "cell_type": "markdown",
   "id": "e885279d",
   "metadata": {},
   "source": [
    "## Preparing Data and Data Overview"
   ]
  },
  {
   "cell_type": "code",
   "execution_count": 18,
   "id": "fdc57db1",
   "metadata": {},
   "outputs": [
    {
     "data": {
      "text/html": [
       "<div>\n",
       "<style scoped>\n",
       "    .dataframe tbody tr th:only-of-type {\n",
       "        vertical-align: middle;\n",
       "    }\n",
       "\n",
       "    .dataframe tbody tr th {\n",
       "        vertical-align: top;\n",
       "    }\n",
       "\n",
       "    .dataframe thead th {\n",
       "        text-align: right;\n",
       "    }\n",
       "</style>\n",
       "<table border=\"1\" class=\"dataframe\">\n",
       "  <thead>\n",
       "    <tr style=\"text-align: right;\">\n",
       "      <th></th>\n",
       "      <th>InvoiceNo</th>\n",
       "      <th>StockCode</th>\n",
       "      <th>Description</th>\n",
       "      <th>Quantity</th>\n",
       "      <th>InvoiceDate</th>\n",
       "      <th>UnitPrice</th>\n",
       "      <th>CustomerID</th>\n",
       "      <th>Country</th>\n",
       "    </tr>\n",
       "  </thead>\n",
       "  <tbody>\n",
       "    <tr>\n",
       "      <th>0</th>\n",
       "      <td>536365</td>\n",
       "      <td>85123A</td>\n",
       "      <td>WHITE HANGING HEART T-LIGHT HOLDER</td>\n",
       "      <td>6</td>\n",
       "      <td>2010-12-01 08:26:00</td>\n",
       "      <td>2.55</td>\n",
       "      <td>17850.0</td>\n",
       "      <td>United Kingdom</td>\n",
       "    </tr>\n",
       "    <tr>\n",
       "      <th>1</th>\n",
       "      <td>536365</td>\n",
       "      <td>71053</td>\n",
       "      <td>WHITE METAL LANTERN</td>\n",
       "      <td>6</td>\n",
       "      <td>2010-12-01 08:26:00</td>\n",
       "      <td>3.39</td>\n",
       "      <td>17850.0</td>\n",
       "      <td>United Kingdom</td>\n",
       "    </tr>\n",
       "    <tr>\n",
       "      <th>2</th>\n",
       "      <td>536365</td>\n",
       "      <td>84406B</td>\n",
       "      <td>CREAM CUPID HEARTS COAT HANGER</td>\n",
       "      <td>8</td>\n",
       "      <td>2010-12-01 08:26:00</td>\n",
       "      <td>2.75</td>\n",
       "      <td>17850.0</td>\n",
       "      <td>United Kingdom</td>\n",
       "    </tr>\n",
       "    <tr>\n",
       "      <th>3</th>\n",
       "      <td>536365</td>\n",
       "      <td>84029G</td>\n",
       "      <td>KNITTED UNION FLAG HOT WATER BOTTLE</td>\n",
       "      <td>6</td>\n",
       "      <td>2010-12-01 08:26:00</td>\n",
       "      <td>3.39</td>\n",
       "      <td>17850.0</td>\n",
       "      <td>United Kingdom</td>\n",
       "    </tr>\n",
       "    <tr>\n",
       "      <th>4</th>\n",
       "      <td>536365</td>\n",
       "      <td>84029E</td>\n",
       "      <td>RED WOOLLY HOTTIE WHITE HEART.</td>\n",
       "      <td>6</td>\n",
       "      <td>2010-12-01 08:26:00</td>\n",
       "      <td>3.39</td>\n",
       "      <td>17850.0</td>\n",
       "      <td>United Kingdom</td>\n",
       "    </tr>\n",
       "  </tbody>\n",
       "</table>\n",
       "</div>"
      ],
      "text/plain": [
       "  InvoiceNo StockCode                          Description  Quantity  \\\n",
       "0    536365    85123A   WHITE HANGING HEART T-LIGHT HOLDER         6   \n",
       "1    536365     71053                  WHITE METAL LANTERN         6   \n",
       "2    536365    84406B       CREAM CUPID HEARTS COAT HANGER         8   \n",
       "3    536365    84029G  KNITTED UNION FLAG HOT WATER BOTTLE         6   \n",
       "4    536365    84029E       RED WOOLLY HOTTIE WHITE HEART.         6   \n",
       "\n",
       "          InvoiceDate  UnitPrice  CustomerID         Country  \n",
       "0 2010-12-01 08:26:00       2.55     17850.0  United Kingdom  \n",
       "1 2010-12-01 08:26:00       3.39     17850.0  United Kingdom  \n",
       "2 2010-12-01 08:26:00       2.75     17850.0  United Kingdom  \n",
       "3 2010-12-01 08:26:00       3.39     17850.0  United Kingdom  \n",
       "4 2010-12-01 08:26:00       3.39     17850.0  United Kingdom  "
      ]
     },
     "execution_count": 18,
     "metadata": {},
     "output_type": "execute_result"
    }
   ],
   "source": [
    "df = pd.read_excel('./DATA INPUT/data.xlsx')\n",
    "df.head()"
   ]
  },
  {
   "cell_type": "code",
   "execution_count": 19,
   "id": "b600595c",
   "metadata": {},
   "outputs": [
    {
     "data": {
      "text/plain": [
       "InvoiceNo      541909\n",
       "StockCode      541909\n",
       "Description    540455\n",
       "Quantity       541909\n",
       "InvoiceDate    541909\n",
       "UnitPrice      541909\n",
       "CustomerID     406829\n",
       "Country        541909\n",
       "dtype: int64"
      ]
     },
     "execution_count": 19,
     "metadata": {},
     "output_type": "execute_result"
    }
   ],
   "source": [
    "df.count()"
   ]
  },
  {
   "cell_type": "code",
   "execution_count": 20,
   "id": "9fd82fd0",
   "metadata": {},
   "outputs": [
    {
     "data": {
      "text/html": [
       "<div>\n",
       "<style scoped>\n",
       "    .dataframe tbody tr th:only-of-type {\n",
       "        vertical-align: middle;\n",
       "    }\n",
       "\n",
       "    .dataframe tbody tr th {\n",
       "        vertical-align: top;\n",
       "    }\n",
       "\n",
       "    .dataframe thead th {\n",
       "        text-align: right;\n",
       "    }\n",
       "</style>\n",
       "<table border=\"1\" class=\"dataframe\">\n",
       "  <thead>\n",
       "    <tr style=\"text-align: right;\">\n",
       "      <th></th>\n",
       "      <th>InvoiceNo</th>\n",
       "      <th>StockCode</th>\n",
       "      <th>Description</th>\n",
       "      <th>Quantity</th>\n",
       "      <th>InvoiceDate</th>\n",
       "      <th>UnitPrice</th>\n",
       "      <th>CustomerID</th>\n",
       "      <th>Country</th>\n",
       "    </tr>\n",
       "  </thead>\n",
       "  <tbody>\n",
       "    <tr>\n",
       "      <th>47912</th>\n",
       "      <td>540456</td>\n",
       "      <td>48185</td>\n",
       "      <td>DOORMAT FAIRY CAKE</td>\n",
       "      <td>2</td>\n",
       "      <td>2011-01-07 12:14:00</td>\n",
       "      <td>7.95</td>\n",
       "      <td>13534.0</td>\n",
       "      <td>United Kingdom</td>\n",
       "    </tr>\n",
       "    <tr>\n",
       "      <th>342630</th>\n",
       "      <td>566891</td>\n",
       "      <td>23013</td>\n",
       "      <td>GLASS APOTHECARY BOTTLE TONIC</td>\n",
       "      <td>4</td>\n",
       "      <td>2011-09-15 13:51:00</td>\n",
       "      <td>3.95</td>\n",
       "      <td>14894.0</td>\n",
       "      <td>United Kingdom</td>\n",
       "    </tr>\n",
       "    <tr>\n",
       "      <th>288183</th>\n",
       "      <td>C562139</td>\n",
       "      <td>21313</td>\n",
       "      <td>GLASS HEART T-LIGHT HOLDER</td>\n",
       "      <td>-4</td>\n",
       "      <td>2011-08-03 10:10:00</td>\n",
       "      <td>0.85</td>\n",
       "      <td>12921.0</td>\n",
       "      <td>United Kingdom</td>\n",
       "    </tr>\n",
       "    <tr>\n",
       "      <th>325368</th>\n",
       "      <td>565438</td>\n",
       "      <td>22382</td>\n",
       "      <td>LUNCH BAG SPACEBOY DESIGN</td>\n",
       "      <td>4</td>\n",
       "      <td>2011-09-04 13:56:00</td>\n",
       "      <td>1.65</td>\n",
       "      <td>17229.0</td>\n",
       "      <td>United Kingdom</td>\n",
       "    </tr>\n",
       "    <tr>\n",
       "      <th>331450</th>\n",
       "      <td>566016</td>\n",
       "      <td>21212</td>\n",
       "      <td>PACK OF 72 RETROSPOT CAKE CASES</td>\n",
       "      <td>24</td>\n",
       "      <td>2011-09-08 12:20:00</td>\n",
       "      <td>0.55</td>\n",
       "      <td>15144.0</td>\n",
       "      <td>United Kingdom</td>\n",
       "    </tr>\n",
       "  </tbody>\n",
       "</table>\n",
       "</div>"
      ],
      "text/plain": [
       "       InvoiceNo StockCode                      Description  Quantity  \\\n",
       "47912     540456     48185               DOORMAT FAIRY CAKE         2   \n",
       "342630    566891     23013    GLASS APOTHECARY BOTTLE TONIC         4   \n",
       "288183   C562139     21313      GLASS HEART T-LIGHT HOLDER         -4   \n",
       "325368    565438     22382       LUNCH BAG SPACEBOY DESIGN          4   \n",
       "331450    566016     21212  PACK OF 72 RETROSPOT CAKE CASES        24   \n",
       "\n",
       "               InvoiceDate  UnitPrice  CustomerID         Country  \n",
       "47912  2011-01-07 12:14:00       7.95     13534.0  United Kingdom  \n",
       "342630 2011-09-15 13:51:00       3.95     14894.0  United Kingdom  \n",
       "288183 2011-08-03 10:10:00       0.85     12921.0  United Kingdom  \n",
       "325368 2011-09-04 13:56:00       1.65     17229.0  United Kingdom  \n",
       "331450 2011-09-08 12:20:00       0.55     15144.0  United Kingdom  "
      ]
     },
     "execution_count": 20,
     "metadata": {},
     "output_type": "execute_result"
    }
   ],
   "source": [
    "# Prepare Data\n",
    "df_cus = df[df['CustomerID'].notna()]\n",
    "df_cus = df_cus.sample(10000, random_state=42)\n",
    "df_cus.head()"
   ]
  },
  {
   "cell_type": "markdown",
   "id": "915bd39d",
   "metadata": {},
   "source": [
    "## RFM"
   ]
  },
  {
   "cell_type": "code",
   "execution_count": 21,
   "id": "1e279c46",
   "metadata": {},
   "outputs": [
    {
     "name": "stdout",
     "output_type": "stream",
     "text": [
      "<class 'pandas.core.frame.DataFrame'>\n",
      "Int64Index: 10000 entries, 47912 to 282657\n",
      "Data columns (total 8 columns):\n",
      " #   Column       Non-Null Count  Dtype         \n",
      "---  ------       --------------  -----         \n",
      " 0   InvoiceNo    10000 non-null  object        \n",
      " 1   StockCode    10000 non-null  object        \n",
      " 2   Description  10000 non-null  object        \n",
      " 3   Quantity     10000 non-null  int64         \n",
      " 4   InvoiceDate  10000 non-null  datetime64[ns]\n",
      " 5   UnitPrice    10000 non-null  float64       \n",
      " 6   CustomerID   10000 non-null  float64       \n",
      " 7   Country      10000 non-null  object        \n",
      "dtypes: datetime64[ns](1), float64(2), int64(1), object(4)\n",
      "memory usage: 703.1+ KB\n"
     ]
    }
   ],
   "source": [
    "df_cus.info()"
   ]
  },
  {
   "cell_type": "markdown",
   "id": "8a4940e8",
   "metadata": {},
   "source": [
    "## Option 1"
   ]
  },
  {
   "cell_type": "code",
   "execution_count": 22,
   "id": "1e5f4334",
   "metadata": {},
   "outputs": [],
   "source": [
    "# Compute R - Recency\n",
    "import datetime\n",
    "current_date = max(df_cus['InvoiceDate']) + datetime.timedelta(days=1)"
   ]
  },
  {
   "cell_type": "code",
   "execution_count": 23,
   "id": "8f57fc64",
   "metadata": {},
   "outputs": [],
   "source": [
    "# Compute M - Moneytary_Value\n",
    "df_cus['TotalPay'] = df_cus['Quantity'] * df_cus['UnitPrice']"
   ]
  },
  {
   "cell_type": "code",
   "execution_count": 24,
   "id": "f6f263d3",
   "metadata": {},
   "outputs": [],
   "source": [
    "# Group by CustomerID to compute R, F, M\n",
    "df_seg = df_cus.groupby(['CustomerID']).agg(\n",
    "    {'InvoiceDate': lambda x: (current_date- x.max()).days,\n",
    "     'InvoiceNo':'count',\n",
    "     'TotalPay':'sum'\n",
    "     }\n",
    ")"
   ]
  },
  {
   "cell_type": "code",
   "execution_count": 25,
   "id": "9f0ab11e",
   "metadata": {},
   "outputs": [
    {
     "data": {
      "text/html": [
       "<div>\n",
       "<style scoped>\n",
       "    .dataframe tbody tr th:only-of-type {\n",
       "        vertical-align: middle;\n",
       "    }\n",
       "\n",
       "    .dataframe tbody tr th {\n",
       "        vertical-align: top;\n",
       "    }\n",
       "\n",
       "    .dataframe thead th {\n",
       "        text-align: right;\n",
       "    }\n",
       "</style>\n",
       "<table border=\"1\" class=\"dataframe\">\n",
       "  <thead>\n",
       "    <tr style=\"text-align: right;\">\n",
       "      <th></th>\n",
       "      <th>InvoiceDate</th>\n",
       "      <th>InvoiceNo</th>\n",
       "      <th>TotalPay</th>\n",
       "    </tr>\n",
       "    <tr>\n",
       "      <th>CustomerID</th>\n",
       "      <th></th>\n",
       "      <th></th>\n",
       "      <th></th>\n",
       "    </tr>\n",
       "  </thead>\n",
       "  <tbody>\n",
       "    <tr>\n",
       "      <th>12347.0</th>\n",
       "      <td>39</td>\n",
       "      <td>5</td>\n",
       "      <td>133.20</td>\n",
       "    </tr>\n",
       "    <tr>\n",
       "      <th>12348.0</th>\n",
       "      <td>249</td>\n",
       "      <td>2</td>\n",
       "      <td>120.88</td>\n",
       "    </tr>\n",
       "    <tr>\n",
       "      <th>12349.0</th>\n",
       "      <td>19</td>\n",
       "      <td>2</td>\n",
       "      <td>312.75</td>\n",
       "    </tr>\n",
       "    <tr>\n",
       "      <th>12352.0</th>\n",
       "      <td>72</td>\n",
       "      <td>5</td>\n",
       "      <td>80.85</td>\n",
       "    </tr>\n",
       "    <tr>\n",
       "      <th>12354.0</th>\n",
       "      <td>232</td>\n",
       "      <td>2</td>\n",
       "      <td>33.30</td>\n",
       "    </tr>\n",
       "  </tbody>\n",
       "</table>\n",
       "</div>"
      ],
      "text/plain": [
       "            InvoiceDate  InvoiceNo  TotalPay\n",
       "CustomerID                                  \n",
       "12347.0              39          5    133.20\n",
       "12348.0             249          2    120.88\n",
       "12349.0              19          2    312.75\n",
       "12352.0              72          5     80.85\n",
       "12354.0             232          2     33.30"
      ]
     },
     "execution_count": 25,
     "metadata": {},
     "output_type": "execute_result"
    }
   ],
   "source": [
    "df_seg.head()"
   ]
  },
  {
   "cell_type": "code",
   "execution_count": 26,
   "id": "97daa353",
   "metadata": {},
   "outputs": [],
   "source": [
    "df_seg.rename(columns={'InvoiceDate':'Recency','InvoiceNo':'Frequency','TotalPay':'MonetaryValue'}, inplace=True)"
   ]
  },
  {
   "cell_type": "markdown",
   "id": "49b88d88",
   "metadata": {},
   "source": [
    "## Option 2"
   ]
  },
  {
   "cell_type": "code",
   "execution_count": 27,
   "id": "b590cca4",
   "metadata": {},
   "outputs": [
    {
     "data": {
      "text/plain": [
       "United Kingdom          495478\n",
       "Germany                   9495\n",
       "France                    8557\n",
       "EIRE                      8196\n",
       "Spain                     2533\n",
       "Netherlands               2371\n",
       "Belgium                   2069\n",
       "Switzerland               2002\n",
       "Portugal                  1519\n",
       "Australia                 1259\n",
       "Norway                    1086\n",
       "Italy                      803\n",
       "Channel Islands            758\n",
       "Finland                    695\n",
       "Cyprus                     622\n",
       "Sweden                     462\n",
       "Unspecified                446\n",
       "Austria                    401\n",
       "Denmark                    389\n",
       "Japan                      358\n",
       "Poland                     341\n",
       "Israel                     297\n",
       "USA                        291\n",
       "Hong Kong                  288\n",
       "Singapore                  229\n",
       "Iceland                    182\n",
       "Canada                     151\n",
       "Greece                     146\n",
       "Malta                      127\n",
       "United Arab Emirates        68\n",
       "European Community          61\n",
       "RSA                         58\n",
       "Lebanon                     45\n",
       "Lithuania                   35\n",
       "Brazil                      32\n",
       "Czech Republic              30\n",
       "Bahrain                     19\n",
       "Saudi Arabia                10\n",
       "Name: Country, dtype: int64"
      ]
     },
     "execution_count": 27,
     "metadata": {},
     "output_type": "execute_result"
    }
   ],
   "source": [
    "df['Country'].value_counts()"
   ]
  },
  {
   "cell_type": "code",
   "execution_count": 28,
   "id": "1c323027",
   "metadata": {},
   "outputs": [],
   "source": [
    "df_uk = df[df['Country'] == 'United Kingdom']"
   ]
  },
  {
   "cell_type": "code",
   "execution_count": 29,
   "id": "95d6bed6",
   "metadata": {},
   "outputs": [
    {
     "data": {
      "text/html": [
       "<div>\n",
       "<style scoped>\n",
       "    .dataframe tbody tr th:only-of-type {\n",
       "        vertical-align: middle;\n",
       "    }\n",
       "\n",
       "    .dataframe tbody tr th {\n",
       "        vertical-align: top;\n",
       "    }\n",
       "\n",
       "    .dataframe thead th {\n",
       "        text-align: right;\n",
       "    }\n",
       "</style>\n",
       "<table border=\"1\" class=\"dataframe\">\n",
       "  <thead>\n",
       "    <tr style=\"text-align: right;\">\n",
       "      <th></th>\n",
       "      <th>InvoiceNo</th>\n",
       "      <th>StockCode</th>\n",
       "      <th>Description</th>\n",
       "      <th>Quantity</th>\n",
       "      <th>InvoiceDate</th>\n",
       "      <th>UnitPrice</th>\n",
       "      <th>CustomerID</th>\n",
       "      <th>Country</th>\n",
       "    </tr>\n",
       "  </thead>\n",
       "  <tbody>\n",
       "    <tr>\n",
       "      <th>0</th>\n",
       "      <td>536365</td>\n",
       "      <td>85123A</td>\n",
       "      <td>WHITE HANGING HEART T-LIGHT HOLDER</td>\n",
       "      <td>6</td>\n",
       "      <td>2010-12-01 08:26:00</td>\n",
       "      <td>2.55</td>\n",
       "      <td>17850.0</td>\n",
       "      <td>United Kingdom</td>\n",
       "    </tr>\n",
       "    <tr>\n",
       "      <th>1</th>\n",
       "      <td>536365</td>\n",
       "      <td>71053</td>\n",
       "      <td>WHITE METAL LANTERN</td>\n",
       "      <td>6</td>\n",
       "      <td>2010-12-01 08:26:00</td>\n",
       "      <td>3.39</td>\n",
       "      <td>17850.0</td>\n",
       "      <td>United Kingdom</td>\n",
       "    </tr>\n",
       "    <tr>\n",
       "      <th>2</th>\n",
       "      <td>536365</td>\n",
       "      <td>84406B</td>\n",
       "      <td>CREAM CUPID HEARTS COAT HANGER</td>\n",
       "      <td>8</td>\n",
       "      <td>2010-12-01 08:26:00</td>\n",
       "      <td>2.75</td>\n",
       "      <td>17850.0</td>\n",
       "      <td>United Kingdom</td>\n",
       "    </tr>\n",
       "    <tr>\n",
       "      <th>3</th>\n",
       "      <td>536365</td>\n",
       "      <td>84029G</td>\n",
       "      <td>KNITTED UNION FLAG HOT WATER BOTTLE</td>\n",
       "      <td>6</td>\n",
       "      <td>2010-12-01 08:26:00</td>\n",
       "      <td>3.39</td>\n",
       "      <td>17850.0</td>\n",
       "      <td>United Kingdom</td>\n",
       "    </tr>\n",
       "    <tr>\n",
       "      <th>4</th>\n",
       "      <td>536365</td>\n",
       "      <td>84029E</td>\n",
       "      <td>RED WOOLLY HOTTIE WHITE HEART.</td>\n",
       "      <td>6</td>\n",
       "      <td>2010-12-01 08:26:00</td>\n",
       "      <td>3.39</td>\n",
       "      <td>17850.0</td>\n",
       "      <td>United Kingdom</td>\n",
       "    </tr>\n",
       "  </tbody>\n",
       "</table>\n",
       "</div>"
      ],
      "text/plain": [
       "  InvoiceNo StockCode                          Description  Quantity  \\\n",
       "0    536365    85123A   WHITE HANGING HEART T-LIGHT HOLDER         6   \n",
       "1    536365     71053                  WHITE METAL LANTERN         6   \n",
       "2    536365    84406B       CREAM CUPID HEARTS COAT HANGER         8   \n",
       "3    536365    84029G  KNITTED UNION FLAG HOT WATER BOTTLE         6   \n",
       "4    536365    84029E       RED WOOLLY HOTTIE WHITE HEART.         6   \n",
       "\n",
       "          InvoiceDate  UnitPrice  CustomerID         Country  \n",
       "0 2010-12-01 08:26:00       2.55     17850.0  United Kingdom  \n",
       "1 2010-12-01 08:26:00       3.39     17850.0  United Kingdom  \n",
       "2 2010-12-01 08:26:00       2.75     17850.0  United Kingdom  \n",
       "3 2010-12-01 08:26:00       3.39     17850.0  United Kingdom  \n",
       "4 2010-12-01 08:26:00       3.39     17850.0  United Kingdom  "
      ]
     },
     "execution_count": 29,
     "metadata": {},
     "output_type": "execute_result"
    }
   ],
   "source": [
    "df_uk.head()"
   ]
  },
  {
   "cell_type": "code",
   "execution_count": 30,
   "id": "0e4f86f2",
   "metadata": {},
   "outputs": [],
   "source": [
    "df_purchase = df_uk.groupby('CustomerID')['InvoiceDate'].max()"
   ]
  },
  {
   "cell_type": "code",
   "execution_count": 31,
   "id": "1cc4c147",
   "metadata": {},
   "outputs": [
    {
     "data": {
      "text/plain": [
       "CustomerID\n",
       "12346.0   2011-01-18 10:17:00\n",
       "12747.0   2011-12-07 14:34:00\n",
       "12748.0   2011-12-09 12:20:00\n",
       "12749.0   2011-12-06 09:56:00\n",
       "12820.0   2011-12-06 15:12:00\n",
       "Name: InvoiceDate, dtype: datetime64[ns]"
      ]
     },
     "execution_count": 31,
     "metadata": {},
     "output_type": "execute_result"
    }
   ],
   "source": [
    "df_purchase.head()"
   ]
  },
  {
   "cell_type": "code",
   "execution_count": 32,
   "id": "ee2e036e",
   "metadata": {},
   "outputs": [],
   "source": [
    "df_purchase = df_uk.groupby('CustomerID')['InvoiceDate'].max().reset_index()"
   ]
  },
  {
   "cell_type": "code",
   "execution_count": 33,
   "id": "2179abc0",
   "metadata": {},
   "outputs": [
    {
     "data": {
      "text/html": [
       "<div>\n",
       "<style scoped>\n",
       "    .dataframe tbody tr th:only-of-type {\n",
       "        vertical-align: middle;\n",
       "    }\n",
       "\n",
       "    .dataframe tbody tr th {\n",
       "        vertical-align: top;\n",
       "    }\n",
       "\n",
       "    .dataframe thead th {\n",
       "        text-align: right;\n",
       "    }\n",
       "</style>\n",
       "<table border=\"1\" class=\"dataframe\">\n",
       "  <thead>\n",
       "    <tr style=\"text-align: right;\">\n",
       "      <th></th>\n",
       "      <th>CustomerID</th>\n",
       "      <th>InvoiceDate</th>\n",
       "    </tr>\n",
       "  </thead>\n",
       "  <tbody>\n",
       "    <tr>\n",
       "      <th>0</th>\n",
       "      <td>12346.0</td>\n",
       "      <td>2011-01-18 10:17:00</td>\n",
       "    </tr>\n",
       "    <tr>\n",
       "      <th>1</th>\n",
       "      <td>12747.0</td>\n",
       "      <td>2011-12-07 14:34:00</td>\n",
       "    </tr>\n",
       "    <tr>\n",
       "      <th>2</th>\n",
       "      <td>12748.0</td>\n",
       "      <td>2011-12-09 12:20:00</td>\n",
       "    </tr>\n",
       "    <tr>\n",
       "      <th>3</th>\n",
       "      <td>12749.0</td>\n",
       "      <td>2011-12-06 09:56:00</td>\n",
       "    </tr>\n",
       "    <tr>\n",
       "      <th>4</th>\n",
       "      <td>12820.0</td>\n",
       "      <td>2011-12-06 15:12:00</td>\n",
       "    </tr>\n",
       "  </tbody>\n",
       "</table>\n",
       "</div>"
      ],
      "text/plain": [
       "   CustomerID         InvoiceDate\n",
       "0     12346.0 2011-01-18 10:17:00\n",
       "1     12747.0 2011-12-07 14:34:00\n",
       "2     12748.0 2011-12-09 12:20:00\n",
       "3     12749.0 2011-12-06 09:56:00\n",
       "4     12820.0 2011-12-06 15:12:00"
      ]
     },
     "execution_count": 33,
     "metadata": {},
     "output_type": "execute_result"
    }
   ],
   "source": [
    "df_purchase.head()"
   ]
  },
  {
   "cell_type": "code",
   "execution_count": 34,
   "id": "27fc2bf0",
   "metadata": {},
   "outputs": [],
   "source": [
    "df_purchase.columns = ['CustomerID', 'MaxPurchaseDate']"
   ]
  },
  {
   "cell_type": "code",
   "execution_count": 35,
   "id": "d1e0e4ce",
   "metadata": {},
   "outputs": [
    {
     "data": {
      "text/html": [
       "<div>\n",
       "<style scoped>\n",
       "    .dataframe tbody tr th:only-of-type {\n",
       "        vertical-align: middle;\n",
       "    }\n",
       "\n",
       "    .dataframe tbody tr th {\n",
       "        vertical-align: top;\n",
       "    }\n",
       "\n",
       "    .dataframe thead th {\n",
       "        text-align: right;\n",
       "    }\n",
       "</style>\n",
       "<table border=\"1\" class=\"dataframe\">\n",
       "  <thead>\n",
       "    <tr style=\"text-align: right;\">\n",
       "      <th></th>\n",
       "      <th>CustomerID</th>\n",
       "      <th>MaxPurchaseDate</th>\n",
       "    </tr>\n",
       "  </thead>\n",
       "  <tbody>\n",
       "    <tr>\n",
       "      <th>0</th>\n",
       "      <td>12346.0</td>\n",
       "      <td>2011-01-18 10:17:00</td>\n",
       "    </tr>\n",
       "    <tr>\n",
       "      <th>1</th>\n",
       "      <td>12747.0</td>\n",
       "      <td>2011-12-07 14:34:00</td>\n",
       "    </tr>\n",
       "    <tr>\n",
       "      <th>2</th>\n",
       "      <td>12748.0</td>\n",
       "      <td>2011-12-09 12:20:00</td>\n",
       "    </tr>\n",
       "  </tbody>\n",
       "</table>\n",
       "</div>"
      ],
      "text/plain": [
       "   CustomerID     MaxPurchaseDate\n",
       "0     12346.0 2011-01-18 10:17:00\n",
       "1     12747.0 2011-12-07 14:34:00\n",
       "2     12748.0 2011-12-09 12:20:00"
      ]
     },
     "execution_count": 35,
     "metadata": {},
     "output_type": "execute_result"
    }
   ],
   "source": [
    "df_purchase.head(3)"
   ]
  },
  {
   "cell_type": "code",
   "execution_count": 36,
   "id": "b3a7c31a",
   "metadata": {},
   "outputs": [
    {
     "data": {
      "text/plain": [
       "Timestamp('2011-12-09 12:49:00')"
      ]
     },
     "execution_count": 36,
     "metadata": {},
     "output_type": "execute_result"
    }
   ],
   "source": [
    "df_purchase['MaxPurchaseDate'].max()"
   ]
  },
  {
   "cell_type": "markdown",
   "id": "e4699862",
   "metadata": {},
   "source": [
    "### R - Recency"
   ]
  },
  {
   "cell_type": "code",
   "execution_count": 37,
   "id": "a4c847dd",
   "metadata": {},
   "outputs": [],
   "source": [
    "import datetime\n",
    "df_purchase['Recency'] = (df_purchase['MaxPurchaseDate'].max()-df_purchase['MaxPurchaseDate']).dt.days"
   ]
  },
  {
   "cell_type": "code",
   "execution_count": 38,
   "id": "a690827b",
   "metadata": {},
   "outputs": [
    {
     "data": {
      "text/html": [
       "<div>\n",
       "<style scoped>\n",
       "    .dataframe tbody tr th:only-of-type {\n",
       "        vertical-align: middle;\n",
       "    }\n",
       "\n",
       "    .dataframe tbody tr th {\n",
       "        vertical-align: top;\n",
       "    }\n",
       "\n",
       "    .dataframe thead th {\n",
       "        text-align: right;\n",
       "    }\n",
       "</style>\n",
       "<table border=\"1\" class=\"dataframe\">\n",
       "  <thead>\n",
       "    <tr style=\"text-align: right;\">\n",
       "      <th></th>\n",
       "      <th>CustomerID</th>\n",
       "      <th>MaxPurchaseDate</th>\n",
       "      <th>Recency</th>\n",
       "    </tr>\n",
       "  </thead>\n",
       "  <tbody>\n",
       "    <tr>\n",
       "      <th>0</th>\n",
       "      <td>12346.0</td>\n",
       "      <td>2011-01-18 10:17:00</td>\n",
       "      <td>325</td>\n",
       "    </tr>\n",
       "    <tr>\n",
       "      <th>1</th>\n",
       "      <td>12747.0</td>\n",
       "      <td>2011-12-07 14:34:00</td>\n",
       "      <td>1</td>\n",
       "    </tr>\n",
       "    <tr>\n",
       "      <th>2</th>\n",
       "      <td>12748.0</td>\n",
       "      <td>2011-12-09 12:20:00</td>\n",
       "      <td>0</td>\n",
       "    </tr>\n",
       "    <tr>\n",
       "      <th>3</th>\n",
       "      <td>12749.0</td>\n",
       "      <td>2011-12-06 09:56:00</td>\n",
       "      <td>3</td>\n",
       "    </tr>\n",
       "    <tr>\n",
       "      <th>4</th>\n",
       "      <td>12820.0</td>\n",
       "      <td>2011-12-06 15:12:00</td>\n",
       "      <td>2</td>\n",
       "    </tr>\n",
       "  </tbody>\n",
       "</table>\n",
       "</div>"
      ],
      "text/plain": [
       "   CustomerID     MaxPurchaseDate  Recency\n",
       "0     12346.0 2011-01-18 10:17:00      325\n",
       "1     12747.0 2011-12-07 14:34:00        1\n",
       "2     12748.0 2011-12-09 12:20:00        0\n",
       "3     12749.0 2011-12-06 09:56:00        3\n",
       "4     12820.0 2011-12-06 15:12:00        2"
      ]
     },
     "execution_count": 38,
     "metadata": {},
     "output_type": "execute_result"
    }
   ],
   "source": [
    "df_purchase.head()"
   ]
  },
  {
   "cell_type": "code",
   "execution_count": 39,
   "id": "f8434ce4",
   "metadata": {},
   "outputs": [],
   "source": [
    "# \n",
    "df_user = pd.DataFrame(df['CustomerID'].unique())"
   ]
  },
  {
   "cell_type": "code",
   "execution_count": 40,
   "id": "941fe83b",
   "metadata": {},
   "outputs": [
    {
     "data": {
      "text/html": [
       "<div>\n",
       "<style scoped>\n",
       "    .dataframe tbody tr th:only-of-type {\n",
       "        vertical-align: middle;\n",
       "    }\n",
       "\n",
       "    .dataframe tbody tr th {\n",
       "        vertical-align: top;\n",
       "    }\n",
       "\n",
       "    .dataframe thead th {\n",
       "        text-align: right;\n",
       "    }\n",
       "</style>\n",
       "<table border=\"1\" class=\"dataframe\">\n",
       "  <thead>\n",
       "    <tr style=\"text-align: right;\">\n",
       "      <th></th>\n",
       "      <th>0</th>\n",
       "    </tr>\n",
       "  </thead>\n",
       "  <tbody>\n",
       "    <tr>\n",
       "      <th>0</th>\n",
       "      <td>17850.0</td>\n",
       "    </tr>\n",
       "    <tr>\n",
       "      <th>1</th>\n",
       "      <td>13047.0</td>\n",
       "    </tr>\n",
       "    <tr>\n",
       "      <th>2</th>\n",
       "      <td>12583.0</td>\n",
       "    </tr>\n",
       "    <tr>\n",
       "      <th>3</th>\n",
       "      <td>13748.0</td>\n",
       "    </tr>\n",
       "    <tr>\n",
       "      <th>4</th>\n",
       "      <td>15100.0</td>\n",
       "    </tr>\n",
       "  </tbody>\n",
       "</table>\n",
       "</div>"
      ],
      "text/plain": [
       "         0\n",
       "0  17850.0\n",
       "1  13047.0\n",
       "2  12583.0\n",
       "3  13748.0\n",
       "4  15100.0"
      ]
     },
     "execution_count": 40,
     "metadata": {},
     "output_type": "execute_result"
    }
   ],
   "source": [
    "df_user.head()"
   ]
  },
  {
   "cell_type": "code",
   "execution_count": 41,
   "id": "7b2accea",
   "metadata": {},
   "outputs": [],
   "source": [
    "df_user.columns = ['CustomerID']"
   ]
  },
  {
   "cell_type": "code",
   "execution_count": 42,
   "id": "dfec2d87",
   "metadata": {},
   "outputs": [
    {
     "data": {
      "text/html": [
       "<div>\n",
       "<style scoped>\n",
       "    .dataframe tbody tr th:only-of-type {\n",
       "        vertical-align: middle;\n",
       "    }\n",
       "\n",
       "    .dataframe tbody tr th {\n",
       "        vertical-align: top;\n",
       "    }\n",
       "\n",
       "    .dataframe thead th {\n",
       "        text-align: right;\n",
       "    }\n",
       "</style>\n",
       "<table border=\"1\" class=\"dataframe\">\n",
       "  <thead>\n",
       "    <tr style=\"text-align: right;\">\n",
       "      <th></th>\n",
       "      <th>CustomerID</th>\n",
       "    </tr>\n",
       "  </thead>\n",
       "  <tbody>\n",
       "    <tr>\n",
       "      <th>0</th>\n",
       "      <td>17850.0</td>\n",
       "    </tr>\n",
       "    <tr>\n",
       "      <th>1</th>\n",
       "      <td>13047.0</td>\n",
       "    </tr>\n",
       "    <tr>\n",
       "      <th>2</th>\n",
       "      <td>12583.0</td>\n",
       "    </tr>\n",
       "    <tr>\n",
       "      <th>3</th>\n",
       "      <td>13748.0</td>\n",
       "    </tr>\n",
       "    <tr>\n",
       "      <th>4</th>\n",
       "      <td>15100.0</td>\n",
       "    </tr>\n",
       "  </tbody>\n",
       "</table>\n",
       "</div>"
      ],
      "text/plain": [
       "   CustomerID\n",
       "0     17850.0\n",
       "1     13047.0\n",
       "2     12583.0\n",
       "3     13748.0\n",
       "4     15100.0"
      ]
     },
     "execution_count": 42,
     "metadata": {},
     "output_type": "execute_result"
    }
   ],
   "source": [
    "df_user.head()"
   ]
  },
  {
   "cell_type": "code",
   "execution_count": 43,
   "id": "fd721b7e",
   "metadata": {},
   "outputs": [],
   "source": [
    "df_user = pd.merge(df_user, df_purchase[['CustomerID', 'Recency']], on='CustomerID', how='inner')"
   ]
  },
  {
   "cell_type": "code",
   "execution_count": 44,
   "id": "5af837b6",
   "metadata": {},
   "outputs": [
    {
     "data": {
      "text/html": [
       "<div>\n",
       "<style scoped>\n",
       "    .dataframe tbody tr th:only-of-type {\n",
       "        vertical-align: middle;\n",
       "    }\n",
       "\n",
       "    .dataframe tbody tr th {\n",
       "        vertical-align: top;\n",
       "    }\n",
       "\n",
       "    .dataframe thead th {\n",
       "        text-align: right;\n",
       "    }\n",
       "</style>\n",
       "<table border=\"1\" class=\"dataframe\">\n",
       "  <thead>\n",
       "    <tr style=\"text-align: right;\">\n",
       "      <th></th>\n",
       "      <th>CustomerID</th>\n",
       "      <th>Recency</th>\n",
       "    </tr>\n",
       "  </thead>\n",
       "  <tbody>\n",
       "    <tr>\n",
       "      <th>0</th>\n",
       "      <td>17850.0</td>\n",
       "      <td>301</td>\n",
       "    </tr>\n",
       "    <tr>\n",
       "      <th>1</th>\n",
       "      <td>13047.0</td>\n",
       "      <td>31</td>\n",
       "    </tr>\n",
       "    <tr>\n",
       "      <th>2</th>\n",
       "      <td>13748.0</td>\n",
       "      <td>95</td>\n",
       "    </tr>\n",
       "    <tr>\n",
       "      <th>3</th>\n",
       "      <td>15100.0</td>\n",
       "      <td>329</td>\n",
       "    </tr>\n",
       "    <tr>\n",
       "      <th>4</th>\n",
       "      <td>15291.0</td>\n",
       "      <td>25</td>\n",
       "    </tr>\n",
       "  </tbody>\n",
       "</table>\n",
       "</div>"
      ],
      "text/plain": [
       "   CustomerID  Recency\n",
       "0     17850.0      301\n",
       "1     13047.0       31\n",
       "2     13748.0       95\n",
       "3     15100.0      329\n",
       "4     15291.0       25"
      ]
     },
     "execution_count": 44,
     "metadata": {},
     "output_type": "execute_result"
    }
   ],
   "source": [
    "df_user.head()"
   ]
  },
  {
   "cell_type": "code",
   "execution_count": 46,
   "id": "9e7ad8b7",
   "metadata": {},
   "outputs": [
    {
     "data": {
      "text/plain": [
       "\"plot_data = [\\n    go.Histogram(\\n    x=df_user['Recency'])\\n]\\nplot_layout = go.Layout(\\n    title='Recency'\\n)\\nfig = go.Figure(data=plot_data, layout=plot_layout)\\npyoff.plot(fig)\""
      ]
     },
     "execution_count": 46,
     "metadata": {},
     "output_type": "execute_result"
    }
   ],
   "source": [
    "'''plot_data = [\n",
    "    go.Histogram(\n",
    "    x=df_user['Recency'])\n",
    "]\n",
    "plot_layout = go.Layout(\n",
    "    title='Recency'\n",
    ")\n",
    "fig = go.Figure(data=plot_data, layout=plot_layout)\n",
    "pyoff.plot(fig)'''"
   ]
  },
  {
   "cell_type": "markdown",
   "id": "780fcdb3",
   "metadata": {},
   "source": [
    "### F - Frequency"
   ]
  },
  {
   "cell_type": "code",
   "execution_count": 47,
   "id": "b3715f9c",
   "metadata": {},
   "outputs": [],
   "source": [
    "df_frequency = df_uk.groupby('CustomerID')['InvoiceDate'].count().reset_index()"
   ]
  },
  {
   "cell_type": "code",
   "execution_count": 48,
   "id": "2407aba0",
   "metadata": {},
   "outputs": [
    {
     "data": {
      "text/html": [
       "<div>\n",
       "<style scoped>\n",
       "    .dataframe tbody tr th:only-of-type {\n",
       "        vertical-align: middle;\n",
       "    }\n",
       "\n",
       "    .dataframe tbody tr th {\n",
       "        vertical-align: top;\n",
       "    }\n",
       "\n",
       "    .dataframe thead th {\n",
       "        text-align: right;\n",
       "    }\n",
       "</style>\n",
       "<table border=\"1\" class=\"dataframe\">\n",
       "  <thead>\n",
       "    <tr style=\"text-align: right;\">\n",
       "      <th></th>\n",
       "      <th>CustomerID</th>\n",
       "      <th>InvoiceDate</th>\n",
       "    </tr>\n",
       "  </thead>\n",
       "  <tbody>\n",
       "    <tr>\n",
       "      <th>0</th>\n",
       "      <td>12346.0</td>\n",
       "      <td>2</td>\n",
       "    </tr>\n",
       "    <tr>\n",
       "      <th>1</th>\n",
       "      <td>12747.0</td>\n",
       "      <td>103</td>\n",
       "    </tr>\n",
       "    <tr>\n",
       "      <th>2</th>\n",
       "      <td>12748.0</td>\n",
       "      <td>4642</td>\n",
       "    </tr>\n",
       "    <tr>\n",
       "      <th>3</th>\n",
       "      <td>12749.0</td>\n",
       "      <td>231</td>\n",
       "    </tr>\n",
       "    <tr>\n",
       "      <th>4</th>\n",
       "      <td>12820.0</td>\n",
       "      <td>59</td>\n",
       "    </tr>\n",
       "  </tbody>\n",
       "</table>\n",
       "</div>"
      ],
      "text/plain": [
       "   CustomerID  InvoiceDate\n",
       "0     12346.0            2\n",
       "1     12747.0          103\n",
       "2     12748.0         4642\n",
       "3     12749.0          231\n",
       "4     12820.0           59"
      ]
     },
     "execution_count": 48,
     "metadata": {},
     "output_type": "execute_result"
    }
   ],
   "source": [
    "df_frequency.head()"
   ]
  },
  {
   "cell_type": "code",
   "execution_count": 49,
   "id": "1be786dc",
   "metadata": {},
   "outputs": [],
   "source": [
    "df_user = pd.merge(df_user,df_frequency, on='CustomerID')"
   ]
  },
  {
   "cell_type": "code",
   "execution_count": 50,
   "id": "c2c1f59d",
   "metadata": {},
   "outputs": [
    {
     "data": {
      "text/html": [
       "<div>\n",
       "<style scoped>\n",
       "    .dataframe tbody tr th:only-of-type {\n",
       "        vertical-align: middle;\n",
       "    }\n",
       "\n",
       "    .dataframe tbody tr th {\n",
       "        vertical-align: top;\n",
       "    }\n",
       "\n",
       "    .dataframe thead th {\n",
       "        text-align: right;\n",
       "    }\n",
       "</style>\n",
       "<table border=\"1\" class=\"dataframe\">\n",
       "  <thead>\n",
       "    <tr style=\"text-align: right;\">\n",
       "      <th></th>\n",
       "      <th>CustomerID</th>\n",
       "      <th>Recency</th>\n",
       "      <th>InvoiceDate</th>\n",
       "    </tr>\n",
       "  </thead>\n",
       "  <tbody>\n",
       "    <tr>\n",
       "      <th>0</th>\n",
       "      <td>17850.0</td>\n",
       "      <td>301</td>\n",
       "      <td>312</td>\n",
       "    </tr>\n",
       "    <tr>\n",
       "      <th>1</th>\n",
       "      <td>13047.0</td>\n",
       "      <td>31</td>\n",
       "      <td>196</td>\n",
       "    </tr>\n",
       "    <tr>\n",
       "      <th>2</th>\n",
       "      <td>13748.0</td>\n",
       "      <td>95</td>\n",
       "      <td>28</td>\n",
       "    </tr>\n",
       "    <tr>\n",
       "      <th>3</th>\n",
       "      <td>15100.0</td>\n",
       "      <td>329</td>\n",
       "      <td>6</td>\n",
       "    </tr>\n",
       "    <tr>\n",
       "      <th>4</th>\n",
       "      <td>15291.0</td>\n",
       "      <td>25</td>\n",
       "      <td>109</td>\n",
       "    </tr>\n",
       "  </tbody>\n",
       "</table>\n",
       "</div>"
      ],
      "text/plain": [
       "   CustomerID  Recency  InvoiceDate\n",
       "0     17850.0      301          312\n",
       "1     13047.0       31          196\n",
       "2     13748.0       95           28\n",
       "3     15100.0      329            6\n",
       "4     15291.0       25          109"
      ]
     },
     "execution_count": 50,
     "metadata": {},
     "output_type": "execute_result"
    }
   ],
   "source": [
    "df_user.head()"
   ]
  },
  {
   "cell_type": "code",
   "execution_count": 51,
   "id": "6e599c2a",
   "metadata": {},
   "outputs": [],
   "source": [
    "df_user.columns = ['CustomerID', 'Recency', 'Frequency']"
   ]
  },
  {
   "cell_type": "code",
   "execution_count": 52,
   "id": "48353d54",
   "metadata": {},
   "outputs": [
    {
     "data": {
      "text/html": [
       "<div>\n",
       "<style scoped>\n",
       "    .dataframe tbody tr th:only-of-type {\n",
       "        vertical-align: middle;\n",
       "    }\n",
       "\n",
       "    .dataframe tbody tr th {\n",
       "        vertical-align: top;\n",
       "    }\n",
       "\n",
       "    .dataframe thead th {\n",
       "        text-align: right;\n",
       "    }\n",
       "</style>\n",
       "<table border=\"1\" class=\"dataframe\">\n",
       "  <thead>\n",
       "    <tr style=\"text-align: right;\">\n",
       "      <th></th>\n",
       "      <th>CustomerID</th>\n",
       "      <th>Recency</th>\n",
       "      <th>Frequency</th>\n",
       "    </tr>\n",
       "  </thead>\n",
       "  <tbody>\n",
       "    <tr>\n",
       "      <th>0</th>\n",
       "      <td>17850.0</td>\n",
       "      <td>301</td>\n",
       "      <td>312</td>\n",
       "    </tr>\n",
       "    <tr>\n",
       "      <th>1</th>\n",
       "      <td>13047.0</td>\n",
       "      <td>31</td>\n",
       "      <td>196</td>\n",
       "    </tr>\n",
       "    <tr>\n",
       "      <th>2</th>\n",
       "      <td>13748.0</td>\n",
       "      <td>95</td>\n",
       "      <td>28</td>\n",
       "    </tr>\n",
       "    <tr>\n",
       "      <th>3</th>\n",
       "      <td>15100.0</td>\n",
       "      <td>329</td>\n",
       "      <td>6</td>\n",
       "    </tr>\n",
       "    <tr>\n",
       "      <th>4</th>\n",
       "      <td>15291.0</td>\n",
       "      <td>25</td>\n",
       "      <td>109</td>\n",
       "    </tr>\n",
       "  </tbody>\n",
       "</table>\n",
       "</div>"
      ],
      "text/plain": [
       "   CustomerID  Recency  Frequency\n",
       "0     17850.0      301        312\n",
       "1     13047.0       31        196\n",
       "2     13748.0       95         28\n",
       "3     15100.0      329          6\n",
       "4     15291.0       25        109"
      ]
     },
     "execution_count": 52,
     "metadata": {},
     "output_type": "execute_result"
    }
   ],
   "source": [
    "df_user.head()"
   ]
  },
  {
   "cell_type": "code",
   "execution_count": 53,
   "id": "6d742f83",
   "metadata": {},
   "outputs": [
    {
     "data": {
      "text/plain": [
       "\"plot_data = [\\n    go.Histogram(\\n    x=df_user.query('Recency < 1000')['Frequency']\\n]\\nplot_layout = go.Layout(\\n    title='Recency'\\n)\\nfig = go.Figure(data=plot_data, layout=plot_layout)\\npyoff.plot(fig)\""
      ]
     },
     "execution_count": 53,
     "metadata": {},
     "output_type": "execute_result"
    }
   ],
   "source": [
    "'''plot_data = [\n",
    "    go.Histogram(\n",
    "    x=df_user.query('Recency < 1000')['Frequency']\n",
    "]\n",
    "plot_layout = go.Layout(\n",
    "    title='Recency'\n",
    ")\n",
    "fig = go.Figure(data=plot_data, layout=plot_layout)\n",
    "pyoff.plot(fig)'''"
   ]
  },
  {
   "cell_type": "markdown",
   "id": "f04ee022",
   "metadata": {},
   "source": [
    "### M - Monetary"
   ]
  },
  {
   "cell_type": "code",
   "execution_count": 54,
   "id": "e65364af",
   "metadata": {},
   "outputs": [
    {
     "name": "stderr",
     "output_type": "stream",
     "text": [
      "<ipython-input-54-df8ca13682f6>:1: SettingWithCopyWarning: \n",
      "A value is trying to be set on a copy of a slice from a DataFrame.\n",
      "Try using .loc[row_indexer,col_indexer] = value instead\n",
      "\n",
      "See the caveats in the documentation: https://pandas.pydata.org/pandas-docs/stable/user_guide/indexing.html#returning-a-view-versus-a-copy\n",
      "  df_uk['Sales'] = df_uk['Quantity']*df_uk['UnitPrice']\n"
     ]
    }
   ],
   "source": [
    "df_uk['Sales'] = df_uk['Quantity']*df_uk['UnitPrice']"
   ]
  },
  {
   "cell_type": "code",
   "execution_count": 55,
   "id": "26c767eb",
   "metadata": {},
   "outputs": [
    {
     "data": {
      "text/html": [
       "<div>\n",
       "<style scoped>\n",
       "    .dataframe tbody tr th:only-of-type {\n",
       "        vertical-align: middle;\n",
       "    }\n",
       "\n",
       "    .dataframe tbody tr th {\n",
       "        vertical-align: top;\n",
       "    }\n",
       "\n",
       "    .dataframe thead th {\n",
       "        text-align: right;\n",
       "    }\n",
       "</style>\n",
       "<table border=\"1\" class=\"dataframe\">\n",
       "  <thead>\n",
       "    <tr style=\"text-align: right;\">\n",
       "      <th></th>\n",
       "      <th>InvoiceNo</th>\n",
       "      <th>StockCode</th>\n",
       "      <th>Description</th>\n",
       "      <th>Quantity</th>\n",
       "      <th>InvoiceDate</th>\n",
       "      <th>UnitPrice</th>\n",
       "      <th>CustomerID</th>\n",
       "      <th>Country</th>\n",
       "      <th>Sales</th>\n",
       "    </tr>\n",
       "  </thead>\n",
       "  <tbody>\n",
       "    <tr>\n",
       "      <th>0</th>\n",
       "      <td>536365</td>\n",
       "      <td>85123A</td>\n",
       "      <td>WHITE HANGING HEART T-LIGHT HOLDER</td>\n",
       "      <td>6</td>\n",
       "      <td>2010-12-01 08:26:00</td>\n",
       "      <td>2.55</td>\n",
       "      <td>17850.0</td>\n",
       "      <td>United Kingdom</td>\n",
       "      <td>15.30</td>\n",
       "    </tr>\n",
       "    <tr>\n",
       "      <th>1</th>\n",
       "      <td>536365</td>\n",
       "      <td>71053</td>\n",
       "      <td>WHITE METAL LANTERN</td>\n",
       "      <td>6</td>\n",
       "      <td>2010-12-01 08:26:00</td>\n",
       "      <td>3.39</td>\n",
       "      <td>17850.0</td>\n",
       "      <td>United Kingdom</td>\n",
       "      <td>20.34</td>\n",
       "    </tr>\n",
       "    <tr>\n",
       "      <th>2</th>\n",
       "      <td>536365</td>\n",
       "      <td>84406B</td>\n",
       "      <td>CREAM CUPID HEARTS COAT HANGER</td>\n",
       "      <td>8</td>\n",
       "      <td>2010-12-01 08:26:00</td>\n",
       "      <td>2.75</td>\n",
       "      <td>17850.0</td>\n",
       "      <td>United Kingdom</td>\n",
       "      <td>22.00</td>\n",
       "    </tr>\n",
       "    <tr>\n",
       "      <th>3</th>\n",
       "      <td>536365</td>\n",
       "      <td>84029G</td>\n",
       "      <td>KNITTED UNION FLAG HOT WATER BOTTLE</td>\n",
       "      <td>6</td>\n",
       "      <td>2010-12-01 08:26:00</td>\n",
       "      <td>3.39</td>\n",
       "      <td>17850.0</td>\n",
       "      <td>United Kingdom</td>\n",
       "      <td>20.34</td>\n",
       "    </tr>\n",
       "    <tr>\n",
       "      <th>4</th>\n",
       "      <td>536365</td>\n",
       "      <td>84029E</td>\n",
       "      <td>RED WOOLLY HOTTIE WHITE HEART.</td>\n",
       "      <td>6</td>\n",
       "      <td>2010-12-01 08:26:00</td>\n",
       "      <td>3.39</td>\n",
       "      <td>17850.0</td>\n",
       "      <td>United Kingdom</td>\n",
       "      <td>20.34</td>\n",
       "    </tr>\n",
       "  </tbody>\n",
       "</table>\n",
       "</div>"
      ],
      "text/plain": [
       "  InvoiceNo StockCode                          Description  Quantity  \\\n",
       "0    536365    85123A   WHITE HANGING HEART T-LIGHT HOLDER         6   \n",
       "1    536365     71053                  WHITE METAL LANTERN         6   \n",
       "2    536365    84406B       CREAM CUPID HEARTS COAT HANGER         8   \n",
       "3    536365    84029G  KNITTED UNION FLAG HOT WATER BOTTLE         6   \n",
       "4    536365    84029E       RED WOOLLY HOTTIE WHITE HEART.         6   \n",
       "\n",
       "          InvoiceDate  UnitPrice  CustomerID         Country  Sales  \n",
       "0 2010-12-01 08:26:00       2.55     17850.0  United Kingdom  15.30  \n",
       "1 2010-12-01 08:26:00       3.39     17850.0  United Kingdom  20.34  \n",
       "2 2010-12-01 08:26:00       2.75     17850.0  United Kingdom  22.00  \n",
       "3 2010-12-01 08:26:00       3.39     17850.0  United Kingdom  20.34  \n",
       "4 2010-12-01 08:26:00       3.39     17850.0  United Kingdom  20.34  "
      ]
     },
     "execution_count": 55,
     "metadata": {},
     "output_type": "execute_result"
    }
   ],
   "source": [
    "df_uk.head()"
   ]
  },
  {
   "cell_type": "code",
   "execution_count": 56,
   "id": "17656e81",
   "metadata": {},
   "outputs": [],
   "source": [
    "df_Sales = df_uk.groupby('CustomerID')['Sales'].sum().reset_index()"
   ]
  },
  {
   "cell_type": "code",
   "execution_count": 57,
   "id": "430452d9",
   "metadata": {},
   "outputs": [
    {
     "data": {
      "text/html": [
       "<div>\n",
       "<style scoped>\n",
       "    .dataframe tbody tr th:only-of-type {\n",
       "        vertical-align: middle;\n",
       "    }\n",
       "\n",
       "    .dataframe tbody tr th {\n",
       "        vertical-align: top;\n",
       "    }\n",
       "\n",
       "    .dataframe thead th {\n",
       "        text-align: right;\n",
       "    }\n",
       "</style>\n",
       "<table border=\"1\" class=\"dataframe\">\n",
       "  <thead>\n",
       "    <tr style=\"text-align: right;\">\n",
       "      <th></th>\n",
       "      <th>CustomerID</th>\n",
       "      <th>Sales</th>\n",
       "    </tr>\n",
       "  </thead>\n",
       "  <tbody>\n",
       "    <tr>\n",
       "      <th>0</th>\n",
       "      <td>12346.0</td>\n",
       "      <td>0.00</td>\n",
       "    </tr>\n",
       "    <tr>\n",
       "      <th>1</th>\n",
       "      <td>12747.0</td>\n",
       "      <td>4196.01</td>\n",
       "    </tr>\n",
       "    <tr>\n",
       "      <th>2</th>\n",
       "      <td>12748.0</td>\n",
       "      <td>29072.10</td>\n",
       "    </tr>\n",
       "    <tr>\n",
       "      <th>3</th>\n",
       "      <td>12749.0</td>\n",
       "      <td>3868.20</td>\n",
       "    </tr>\n",
       "    <tr>\n",
       "      <th>4</th>\n",
       "      <td>12820.0</td>\n",
       "      <td>942.34</td>\n",
       "    </tr>\n",
       "  </tbody>\n",
       "</table>\n",
       "</div>"
      ],
      "text/plain": [
       "   CustomerID     Sales\n",
       "0     12346.0      0.00\n",
       "1     12747.0   4196.01\n",
       "2     12748.0  29072.10\n",
       "3     12749.0   3868.20\n",
       "4     12820.0    942.34"
      ]
     },
     "execution_count": 57,
     "metadata": {},
     "output_type": "execute_result"
    }
   ],
   "source": [
    "df_Sales.head()"
   ]
  },
  {
   "cell_type": "code",
   "execution_count": 58,
   "id": "402e9ee7",
   "metadata": {},
   "outputs": [],
   "source": [
    "df_user = pd.merge(df_user, df_Sales, on='CustomerID')"
   ]
  },
  {
   "cell_type": "code",
   "execution_count": 59,
   "id": "c3ef7e10",
   "metadata": {},
   "outputs": [
    {
     "data": {
      "text/html": [
       "<div>\n",
       "<style scoped>\n",
       "    .dataframe tbody tr th:only-of-type {\n",
       "        vertical-align: middle;\n",
       "    }\n",
       "\n",
       "    .dataframe tbody tr th {\n",
       "        vertical-align: top;\n",
       "    }\n",
       "\n",
       "    .dataframe thead th {\n",
       "        text-align: right;\n",
       "    }\n",
       "</style>\n",
       "<table border=\"1\" class=\"dataframe\">\n",
       "  <thead>\n",
       "    <tr style=\"text-align: right;\">\n",
       "      <th></th>\n",
       "      <th>CustomerID</th>\n",
       "      <th>Recency</th>\n",
       "      <th>Frequency</th>\n",
       "      <th>Sales</th>\n",
       "    </tr>\n",
       "  </thead>\n",
       "  <tbody>\n",
       "    <tr>\n",
       "      <th>0</th>\n",
       "      <td>17850.0</td>\n",
       "      <td>301</td>\n",
       "      <td>312</td>\n",
       "      <td>5288.63</td>\n",
       "    </tr>\n",
       "    <tr>\n",
       "      <th>1</th>\n",
       "      <td>13047.0</td>\n",
       "      <td>31</td>\n",
       "      <td>196</td>\n",
       "      <td>3079.10</td>\n",
       "    </tr>\n",
       "    <tr>\n",
       "      <th>2</th>\n",
       "      <td>13748.0</td>\n",
       "      <td>95</td>\n",
       "      <td>28</td>\n",
       "      <td>948.25</td>\n",
       "    </tr>\n",
       "    <tr>\n",
       "      <th>3</th>\n",
       "      <td>15100.0</td>\n",
       "      <td>329</td>\n",
       "      <td>6</td>\n",
       "      <td>635.10</td>\n",
       "    </tr>\n",
       "    <tr>\n",
       "      <th>4</th>\n",
       "      <td>15291.0</td>\n",
       "      <td>25</td>\n",
       "      <td>109</td>\n",
       "      <td>4596.51</td>\n",
       "    </tr>\n",
       "  </tbody>\n",
       "</table>\n",
       "</div>"
      ],
      "text/plain": [
       "   CustomerID  Recency  Frequency    Sales\n",
       "0     17850.0      301        312  5288.63\n",
       "1     13047.0       31        196  3079.10\n",
       "2     13748.0       95         28   948.25\n",
       "3     15100.0      329          6   635.10\n",
       "4     15291.0       25        109  4596.51"
      ]
     },
     "execution_count": 59,
     "metadata": {},
     "output_type": "execute_result"
    }
   ],
   "source": [
    "df_user.head()"
   ]
  },
  {
   "cell_type": "code",
   "execution_count": 60,
   "id": "c14be752",
   "metadata": {},
   "outputs": [
    {
     "data": {
      "text/plain": [
       "\"plot_data = [\\n    go.Histogram(\\n    x=df_user.query('Sales < 10000')['Sales']\\n]\\nplot_layout = go.Layout(\\n    title='Monetary_Value'\\n)\\nfig = go.Figure(data=plot_data, layout=plot_layout)\\npyoff.plot(fig)\""
      ]
     },
     "execution_count": 60,
     "metadata": {},
     "output_type": "execute_result"
    }
   ],
   "source": [
    "'''plot_data = [\n",
    "    go.Histogram(\n",
    "    x=df_user.query('Sales < 10000')['Sales']\n",
    "]\n",
    "plot_layout = go.Layout(\n",
    "    title='Monetary_Value'\n",
    ")\n",
    "fig = go.Figure(data=plot_data, layout=plot_layout)\n",
    "pyoff.plot(fig)'''"
   ]
  },
  {
   "cell_type": "markdown",
   "id": "dfa68a51",
   "metadata": {},
   "source": [
    "## Data distribution"
   ]
  },
  {
   "cell_type": "code",
   "execution_count": 61,
   "id": "5ce11e4b",
   "metadata": {},
   "outputs": [
    {
     "name": "stderr",
     "output_type": "stream",
     "text": [
      "/opt/anaconda3/lib/python3.8/site-packages/seaborn/distributions.py:2557: FutureWarning: `distplot` is a deprecated function and will be removed in a future version. Please adapt your code to use either `displot` (a figure-level function with similar flexibility) or `histplot` (an axes-level function for histograms).\n",
      "  warnings.warn(msg, FutureWarning)\n",
      "/opt/anaconda3/lib/python3.8/site-packages/seaborn/distributions.py:2557: FutureWarning: `distplot` is a deprecated function and will be removed in a future version. Please adapt your code to use either `displot` (a figure-level function with similar flexibility) or `histplot` (an axes-level function for histograms).\n",
      "  warnings.warn(msg, FutureWarning)\n",
      "/opt/anaconda3/lib/python3.8/site-packages/seaborn/distributions.py:2557: FutureWarning: `distplot` is a deprecated function and will be removed in a future version. Please adapt your code to use either `displot` (a figure-level function with similar flexibility) or `histplot` (an axes-level function for histograms).\n",
      "  warnings.warn(msg, FutureWarning)\n"
     ]
    },
    {
     "data": {
      "text/plain": [
       "<AxesSubplot:xlabel='MonetaryValue', ylabel='Density'>"
      ]
     },
     "execution_count": 61,
     "metadata": {},
     "output_type": "execute_result"
    },
    {
     "data": {
      "image/png": "[encoded data removed]",
      "text/plain": [
       "<Figure size 864x288 with 3 Axes>"
      ]
     },
     "metadata": {
      "needs_background": "light"
     },
     "output_type": "display_data"
    }
   ],
   "source": [
    "fig, ax = plt.subplots(1, 3, figsize=(12,4))\n",
    "sns.distplot(df_seg['Recency'], ax = ax[0])\n",
    "sns.distplot(df_seg['Frequency'], ax = ax[1])\n",
    "sns.distplot(df_seg['MonetaryValue'], ax = ax[2])"
   ]
  },
  {
   "cell_type": "code",
   "execution_count": 62,
   "id": "cded3269",
   "metadata": {},
   "outputs": [],
   "source": [
    "from scipy import stats\n",
    "def analyze_skewness(x):\n",
    "    fig, ax = plt.subplots(2, 2, figsize=(5,5))\n",
    "    sns.distplot(df_seg[x], ax=ax[0,0])\n",
    "    sns.distplot(np.log(df_seg[x]), ax=ax[0,1])\n",
    "    sns.distplot(np.sqrt(df_seg[x]), ax=ax[1,0])\n",
    "    sns.distplot(stats.boxcox(df_seg[x])[0], ax=ax[1,1])\n",
    "    plt.tight_layout()\n",
    "    plt.show()\n",
    "    \n",
    "    print(df_seg[x].skew().round(2))\n",
    "    print(np.log(df_seg[x]).skew().round(2))\n",
    "    print(np.sqrt(df_seg[x]).skew().round(2))\n",
    "    print(pd.Series(stats.boxcox(df_seg[x])[0]).skew().round(2))"
   ]
  },
  {
   "cell_type": "code",
   "execution_count": 63,
   "id": "d17ce9ff",
   "metadata": {},
   "outputs": [
    {
     "name": "stderr",
     "output_type": "stream",
     "text": [
      "/opt/anaconda3/lib/python3.8/site-packages/seaborn/distributions.py:2557: FutureWarning: `distplot` is a deprecated function and will be removed in a future version. Please adapt your code to use either `displot` (a figure-level function with similar flexibility) or `histplot` (an axes-level function for histograms).\n",
      "  warnings.warn(msg, FutureWarning)\n",
      "/opt/anaconda3/lib/python3.8/site-packages/seaborn/distributions.py:2557: FutureWarning: `distplot` is a deprecated function and will be removed in a future version. Please adapt your code to use either `displot` (a figure-level function with similar flexibility) or `histplot` (an axes-level function for histograms).\n",
      "  warnings.warn(msg, FutureWarning)\n",
      "/opt/anaconda3/lib/python3.8/site-packages/seaborn/distributions.py:2557: FutureWarning: `distplot` is a deprecated function and will be removed in a future version. Please adapt your code to use either `displot` (a figure-level function with similar flexibility) or `histplot` (an axes-level function for histograms).\n",
      "  warnings.warn(msg, FutureWarning)\n",
      "/opt/anaconda3/lib/python3.8/site-packages/seaborn/distributions.py:2557: FutureWarning: `distplot` is a deprecated function and will be removed in a future version. Please adapt your code to use either `displot` (a figure-level function with similar flexibility) or `histplot` (an axes-level function for histograms).\n",
      "  warnings.warn(msg, FutureWarning)\n"
     ]
    },
    {
     "data": {
      "image/png": "[encoded data removed]",
      "text/plain": [
       "<Figure size 360x360 with 4 Axes>"
      ]
     },
     "metadata": {
      "needs_background": "light"
     },
     "output_type": "display_data"
    },
    {
     "name": "stdout",
     "output_type": "stream",
     "text": [
      "0.93\n",
      "-0.83\n",
      "0.31\n",
      "-0.11\n"
     ]
    }
   ],
   "source": [
    "analyze_skewness('Recency')"
   ]
  },
  {
   "cell_type": "code",
   "execution_count": 64,
   "id": "056b0968",
   "metadata": {},
   "outputs": [
    {
     "data": {
      "text/html": [
       "<div>\n",
       "<style scoped>\n",
       "    .dataframe tbody tr th:only-of-type {\n",
       "        vertical-align: middle;\n",
       "    }\n",
       "\n",
       "    .dataframe tbody tr th {\n",
       "        vertical-align: top;\n",
       "    }\n",
       "\n",
       "    .dataframe thead th {\n",
       "        text-align: right;\n",
       "    }\n",
       "</style>\n",
       "<table border=\"1\" class=\"dataframe\">\n",
       "  <thead>\n",
       "    <tr style=\"text-align: right;\">\n",
       "      <th></th>\n",
       "      <th>Recency</th>\n",
       "      <th>Frequency</th>\n",
       "      <th>MonetaryValue</th>\n",
       "    </tr>\n",
       "    <tr>\n",
       "      <th>CustomerID</th>\n",
       "      <th></th>\n",
       "      <th></th>\n",
       "      <th></th>\n",
       "    </tr>\n",
       "  </thead>\n",
       "  <tbody>\n",
       "    <tr>\n",
       "      <th>12347.0</th>\n",
       "      <td>39</td>\n",
       "      <td>5</td>\n",
       "      <td>133.20</td>\n",
       "    </tr>\n",
       "    <tr>\n",
       "      <th>12348.0</th>\n",
       "      <td>249</td>\n",
       "      <td>2</td>\n",
       "      <td>120.88</td>\n",
       "    </tr>\n",
       "    <tr>\n",
       "      <th>12349.0</th>\n",
       "      <td>19</td>\n",
       "      <td>2</td>\n",
       "      <td>312.75</td>\n",
       "    </tr>\n",
       "    <tr>\n",
       "      <th>12352.0</th>\n",
       "      <td>72</td>\n",
       "      <td>5</td>\n",
       "      <td>80.85</td>\n",
       "    </tr>\n",
       "    <tr>\n",
       "      <th>12354.0</th>\n",
       "      <td>232</td>\n",
       "      <td>2</td>\n",
       "      <td>33.30</td>\n",
       "    </tr>\n",
       "  </tbody>\n",
       "</table>\n",
       "</div>"
      ],
      "text/plain": [
       "            Recency  Frequency  MonetaryValue\n",
       "CustomerID                                   \n",
       "12347.0          39          5         133.20\n",
       "12348.0         249          2         120.88\n",
       "12349.0          19          2         312.75\n",
       "12352.0          72          5          80.85\n",
       "12354.0         232          2          33.30"
      ]
     },
     "execution_count": 64,
     "metadata": {},
     "output_type": "execute_result"
    }
   ],
   "source": [
    "df_seg.head()"
   ]
  },
  {
   "cell_type": "code",
   "execution_count": 65,
   "id": "d4670d73",
   "metadata": {},
   "outputs": [
    {
     "data": {
      "text/html": [
       "<div>\n",
       "<style scoped>\n",
       "    .dataframe tbody tr th:only-of-type {\n",
       "        vertical-align: middle;\n",
       "    }\n",
       "\n",
       "    .dataframe tbody tr th {\n",
       "        vertical-align: top;\n",
       "    }\n",
       "\n",
       "    .dataframe thead th {\n",
       "        text-align: right;\n",
       "    }\n",
       "</style>\n",
       "<table border=\"1\" class=\"dataframe\">\n",
       "  <thead>\n",
       "    <tr style=\"text-align: right;\">\n",
       "      <th></th>\n",
       "      <th>Recency</th>\n",
       "      <th>Frequency</th>\n",
       "      <th>MonetaryValue</th>\n",
       "    </tr>\n",
       "  </thead>\n",
       "  <tbody>\n",
       "    <tr>\n",
       "      <th>0</th>\n",
       "      <td>6.285050</td>\n",
       "      <td>1.127547</td>\n",
       "      <td>5.107026</td>\n",
       "    </tr>\n",
       "    <tr>\n",
       "      <th>1</th>\n",
       "      <td>12.822038</td>\n",
       "      <td>0.591193</td>\n",
       "      <td>4.944452</td>\n",
       "    </tr>\n",
       "    <tr>\n",
       "      <th>2</th>\n",
       "      <td>4.514540</td>\n",
       "      <td>0.591193</td>\n",
       "      <td>6.787853</td>\n",
       "    </tr>\n",
       "    <tr>\n",
       "      <th>3</th>\n",
       "      <td>8.093846</td>\n",
       "      <td>1.127547</td>\n",
       "      <td>4.324076</td>\n",
       "    </tr>\n",
       "    <tr>\n",
       "      <th>4</th>\n",
       "      <td>12.507538</td>\n",
       "      <td>0.591193</td>\n",
       "      <td>3.217225</td>\n",
       "    </tr>\n",
       "  </tbody>\n",
       "</table>\n",
       "</div>"
      ],
      "text/plain": [
       "     Recency  Frequency  MonetaryValue\n",
       "0   6.285050   1.127547       5.107026\n",
       "1  12.822038   0.591193       4.944452\n",
       "2   4.514540   0.591193       6.787853\n",
       "3   8.093846   1.127547       4.324076\n",
       "4  12.507538   0.591193       3.217225"
      ]
     },
     "execution_count": 65,
     "metadata": {},
     "output_type": "execute_result"
    }
   ],
   "source": [
    "# Transform data\n",
    "df_trans = pd.DataFrame()\n",
    "df_trans['Recency'] = stats.boxcox(df_seg['Recency'])[0]\n",
    "df_trans['Frequency'] = stats.boxcox(df_seg['Frequency'])[0]\n",
    "df_trans['MonetaryValue'] = pd.Series(np.cbrt(df_seg['MonetaryValue'])).values\n",
    "df_trans.head()"
   ]
  },
  {
   "cell_type": "code",
   "execution_count": 66,
   "id": "75d59d56",
   "metadata": {},
   "outputs": [],
   "source": [
    "# Scale data\n",
    "from sklearn.preprocessing import StandardScaler\n",
    "scaler = StandardScaler()\n",
    "scaler.fit(df_trans)\n",
    "\n",
    "df_trans = scaler.transform(df_trans)"
   ]
  },
  {
   "cell_type": "code",
   "execution_count": 67,
   "id": "6c20a071",
   "metadata": {},
   "outputs": [
    {
     "data": {
      "text/html": [
       "<div>\n",
       "<style scoped>\n",
       "    .dataframe tbody tr th:only-of-type {\n",
       "        vertical-align: middle;\n",
       "    }\n",
       "\n",
       "    .dataframe tbody tr th {\n",
       "        vertical-align: top;\n",
       "    }\n",
       "\n",
       "    .dataframe thead th {\n",
       "        text-align: right;\n",
       "    }\n",
       "</style>\n",
       "<table border=\"1\" class=\"dataframe\">\n",
       "  <thead>\n",
       "    <tr style=\"text-align: right;\">\n",
       "      <th></th>\n",
       "      <th>0</th>\n",
       "      <th>1</th>\n",
       "      <th>2</th>\n",
       "    </tr>\n",
       "  </thead>\n",
       "  <tbody>\n",
       "    <tr>\n",
       "      <th>0</th>\n",
       "      <td>-0.496913</td>\n",
       "      <td>1.012426</td>\n",
       "      <td>1.017503</td>\n",
       "    </tr>\n",
       "    <tr>\n",
       "      <th>1</th>\n",
       "      <td>1.234593</td>\n",
       "      <td>-0.017412</td>\n",
       "      <td>0.925115</td>\n",
       "    </tr>\n",
       "    <tr>\n",
       "      <th>2</th>\n",
       "      <td>-0.965883</td>\n",
       "      <td>-0.017412</td>\n",
       "      <td>1.972690</td>\n",
       "    </tr>\n",
       "    <tr>\n",
       "      <th>3</th>\n",
       "      <td>-0.017802</td>\n",
       "      <td>1.012426</td>\n",
       "      <td>0.572565</td>\n",
       "    </tr>\n",
       "    <tr>\n",
       "      <th>4</th>\n",
       "      <td>1.151289</td>\n",
       "      <td>-0.017412</td>\n",
       "      <td>-0.056441</td>\n",
       "    </tr>\n",
       "  </tbody>\n",
       "</table>\n",
       "</div>"
      ],
      "text/plain": [
       "          0         1         2\n",
       "0 -0.496913  1.012426  1.017503\n",
       "1  1.234593 -0.017412  0.925115\n",
       "2 -0.965883 -0.017412  1.972690\n",
       "3 -0.017802  1.012426  0.572565\n",
       "4  1.151289 -0.017412 -0.056441"
      ]
     },
     "execution_count": 67,
     "metadata": {},
     "output_type": "execute_result"
    }
   ],
   "source": [
    "pd.DataFrame(df_trans).head()"
   ]
  },
  {
   "cell_type": "code",
   "execution_count": 68,
   "id": "f62a1695",
   "metadata": {},
   "outputs": [
    {
     "data": {
      "text/plain": [
       "<AxesSubplot:title={'center':'The Elbow Method'}, xlabel='k', ylabel='SSE'>"
      ]
     },
     "execution_count": 68,
     "metadata": {},
     "output_type": "execute_result"
    },
    {
     "data": {
      "image/png": "[encoded data removed]",
      "text/plain": [
       "<Figure size 432x288 with 1 Axes>"
      ]
     },
     "metadata": {
      "needs_background": "light"
     },
     "output_type": "display_data"
    }
   ],
   "source": [
    "# Elbow plot to get K\n",
    "from sklearn.cluster import KMeans\n",
    "\n",
    "sse = {}\n",
    "for k in range(1, 11):\n",
    "    kmeans = KMeans(n_clusters=k, random_state=42)\n",
    "    kmeans.fit(df_trans)\n",
    "    sse[k] = kmeans.inertia_ \n",
    "    \n",
    "plt.title('The Elbow Method')\n",
    "plt.xlabel('k')\n",
    "plt.ylabel('SSE')\n",
    "sns.pointplot(x=list(sse.keys()), y=list(sse.values()))"
   ]
  },
  {
   "cell_type": "code",
   "execution_count": 69,
   "id": "59cb17ee",
   "metadata": {},
   "outputs": [
    {
     "data": {
      "text/plain": [
       "KMeans(n_clusters=3, random_state=42)"
      ]
     },
     "execution_count": 69,
     "metadata": {},
     "output_type": "execute_result"
    }
   ],
   "source": [
    "model = KMeans(n_clusters=3, random_state=42)\n",
    "model.fit(df_trans)"
   ]
  },
  {
   "cell_type": "code",
   "execution_count": 70,
   "id": "fb75291f",
   "metadata": {},
   "outputs": [
    {
     "data": {
      "text/html": [
       "<div>\n",
       "<style scoped>\n",
       "    .dataframe tbody tr th:only-of-type {\n",
       "        vertical-align: middle;\n",
       "    }\n",
       "\n",
       "    .dataframe tbody tr th {\n",
       "        vertical-align: top;\n",
       "    }\n",
       "\n",
       "    .dataframe thead th {\n",
       "        text-align: right;\n",
       "    }\n",
       "</style>\n",
       "<table border=\"1\" class=\"dataframe\">\n",
       "  <thead>\n",
       "    <tr style=\"text-align: right;\">\n",
       "      <th></th>\n",
       "      <th>Recency</th>\n",
       "      <th>Frequency</th>\n",
       "      <th>MonetaryValue</th>\n",
       "      <th>Cluster</th>\n",
       "    </tr>\n",
       "    <tr>\n",
       "      <th>CustomerID</th>\n",
       "      <th></th>\n",
       "      <th></th>\n",
       "      <th></th>\n",
       "      <th></th>\n",
       "    </tr>\n",
       "  </thead>\n",
       "  <tbody>\n",
       "    <tr>\n",
       "      <th>12347.0</th>\n",
       "      <td>39</td>\n",
       "      <td>5</td>\n",
       "      <td>133.20</td>\n",
       "      <td>0</td>\n",
       "    </tr>\n",
       "    <tr>\n",
       "      <th>12348.0</th>\n",
       "      <td>249</td>\n",
       "      <td>2</td>\n",
       "      <td>120.88</td>\n",
       "      <td>2</td>\n",
       "    </tr>\n",
       "    <tr>\n",
       "      <th>12349.0</th>\n",
       "      <td>19</td>\n",
       "      <td>2</td>\n",
       "      <td>312.75</td>\n",
       "      <td>0</td>\n",
       "    </tr>\n",
       "    <tr>\n",
       "      <th>12352.0</th>\n",
       "      <td>72</td>\n",
       "      <td>5</td>\n",
       "      <td>80.85</td>\n",
       "      <td>0</td>\n",
       "    </tr>\n",
       "    <tr>\n",
       "      <th>12354.0</th>\n",
       "      <td>232</td>\n",
       "      <td>2</td>\n",
       "      <td>33.30</td>\n",
       "      <td>2</td>\n",
       "    </tr>\n",
       "  </tbody>\n",
       "</table>\n",
       "</div>"
      ],
      "text/plain": [
       "            Recency  Frequency  MonetaryValue  Cluster\n",
       "CustomerID                                            \n",
       "12347.0          39          5         133.20        0\n",
       "12348.0         249          2         120.88        2\n",
       "12349.0          19          2         312.75        0\n",
       "12352.0          72          5          80.85        0\n",
       "12354.0         232          2          33.30        2"
      ]
     },
     "execution_count": 70,
     "metadata": {},
     "output_type": "execute_result"
    }
   ],
   "source": [
    "df_seg['Cluster'] = model.labels_\n",
    "df_seg.head()"
   ]
  },
  {
   "cell_type": "code",
   "execution_count": 71,
   "id": "db556ae6",
   "metadata": {},
   "outputs": [
    {
     "data": {
      "text/plain": [
       "\"df_seg.groupby('Cluster').agg(\\n    {\\n        'Recency':'mean',\\n        'Frequency':'mean',\\n        'MonetaryValue':'mean'\\n    }\\n).round(2)\""
      ]
     },
     "execution_count": 71,
     "metadata": {},
     "output_type": "execute_result"
    }
   ],
   "source": [
    "'''df_seg.groupby('Cluster').agg(\n",
    "    {\n",
    "        'Recency':'mean',\n",
    "        'Frequency':'mean',\n",
    "        'MonetaryValue':'mean'\n",
    "    }\n",
    ").round(2)'''"
   ]
  }
 ],
 "metadata": {
  "kernelspec": {
   "display_name": "Python 3",
   "language": "python",
   "name": "python3"
  },
  "language_info": {
   "codemirror_mode": {
    "name": "ipython",
    "version": 3
   },
   "file_extension": ".py",
   "mimetype": "text/x-python",
   "name": "python",
   "nbconvert_exporter": "python",
   "pygments_lexer": "ipython3",
   "version": "3.8.8"
  }
 },
 "nbformat": 4,
 "nbformat_minor": 5
}
