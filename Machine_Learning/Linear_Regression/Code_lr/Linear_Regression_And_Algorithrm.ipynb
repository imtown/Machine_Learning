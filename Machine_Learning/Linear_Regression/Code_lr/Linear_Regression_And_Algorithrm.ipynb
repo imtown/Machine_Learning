{
 "cells": [
  {
   "cell_type": "markdown",
   "id": "7659f233",
   "metadata": {},
   "source": [
    "# [Machine Learning] Supervised Learning\n",
    "## Machine Learning Model Steps\n",
    "- Step 1: Prepare Data\n",
    "- Step 2: Model (algorithm)\n",
    "- Step 3: Training (fit())\n",
    "- Step 4: Test Data\n",
    "- Step 5: Predict"
   ]
  },
  {
   "cell_type": "markdown",
   "id": "d4eefff7",
   "metadata": {},
   "source": [
    "## Import Libraries"
   ]
  },
  {
   "cell_type": "code",
   "execution_count": 1,
   "id": "4a2c8bac",
   "metadata": {},
   "outputs": [],
   "source": [
    "import numpy as np\n",
    "import pandas as pd\n",
    "import seaborn as sns\n",
    "import matplotlib.pyplot as plt\n",
    "from sklearn.linear_model import LinearRegression\n",
    "from sklearn.metrics import mean_absolute_error, mean_squared_error, r2_score\n",
    "from sklearn.pipeline import make_pipeline\n",
    "from sklearn.preprocessing import PolynomialFeatures\n",
    "from sklearn.model_selection import train_test_split"
   ]
  },
  {
   "cell_type": "markdown",
   "id": "a20b680c",
   "metadata": {},
   "source": [
    "## Mean Absolute Error (MAE)"
   ]
  },
  {
   "cell_type": "code",
   "execution_count": 2,
   "id": "d19428a5",
   "metadata": {
    "scrolled": true
   },
   "outputs": [
    {
     "data": {
      "image/png": "[encoded data removed]",
      "text/plain": [
       "<IPython.core.display.Image object>"
      ]
     },
     "execution_count": 2,
     "metadata": {},
     "output_type": "execute_result"
    }
   ],
   "source": [
    "from IPython.display import Image\n",
    "Image(\"./DATA INPUT/image_mae.png\")"
   ]
  },
  {
   "cell_type": "markdown",
   "id": "66239d41",
   "metadata": {},
   "source": [
    "- y: vector of n true value\n",
    "- y^: vector of n predict value \n",
    "- MSE => 0 is best of value predict"
   ]
  },
  {
   "cell_type": "code",
   "execution_count": 3,
   "id": "2453255e",
   "metadata": {},
   "outputs": [],
   "source": [
    "x_mae = np.array([2,3,4,5,6,7,8,9,10]).reshape(9,1)\n",
    "y_mae = np.array([30,35,40,44,48,60,66,70,75])\n",
    "lr = LinearRegression()\n",
    "lr.fit(x_mae, y_mae)\n",
    "y_mae_p = lr.predict(x_mae)\n",
    "mae = mean_absolute_error(y_mae,y_mae_p)"
   ]
  },
  {
   "cell_type": "code",
   "execution_count": 4,
   "id": "3112dcd0",
   "metadata": {},
   "outputs": [
    {
     "data": {
      "text/plain": [
       "1.5296296296296292"
      ]
     },
     "execution_count": 4,
     "metadata": {},
     "output_type": "execute_result"
    }
   ],
   "source": [
    "mae"
   ]
  },
  {
   "cell_type": "markdown",
   "id": "83c6241c",
   "metadata": {},
   "source": [
    "## Mean Squared Error (MSE)"
   ]
  },
  {
   "cell_type": "code",
   "execution_count": 5,
   "id": "49ff52fb",
   "metadata": {
    "scrolled": true
   },
   "outputs": [
    {
     "data": {
      "image/jpeg": "[encoded data removed]",
      "text/plain": [
       "<IPython.core.display.Image object>"
      ]
     },
     "execution_count": 5,
     "metadata": {},
     "output_type": "execute_result"
    }
   ],
   "source": [
    "from IPython.display import Image\n",
    "Image(\"./DATA INPUT/imager_8598.jpeg\")"
   ]
  },
  {
   "cell_type": "code",
   "execution_count": 6,
   "id": "a69f9ac0",
   "metadata": {},
   "outputs": [
    {
     "name": "stdout",
     "output_type": "stream",
     "text": [
      "y-y^ is:  [ 1  2  1 -2 -3  2]\n",
      "Squared of (y-y^):  [1 4 1 4 9 4]\n",
      "MSE: 3.8333333333333335\n"
     ]
    }
   ],
   "source": [
    "# Example way 1:\n",
    "y = np.array([5,11,14,20,23,26])\n",
    "y_predict = np.array([6,13,15,18,20,28])\n",
    "# error\n",
    "print('y-y^ is: ',  y_predict-y)\n",
    "# squared of error\n",
    "print('Squared of (y-y^): ',(y_predict-y)*(y_predict-y))\n",
    "# MSE\n",
    "print('MSE:', sum((y_predict-y)*(y_predict-y))/len(y))"
   ]
  },
  {
   "cell_type": "code",
   "execution_count": 7,
   "id": "ea974123",
   "metadata": {},
   "outputs": [],
   "source": [
    "# Example ways 2:\n",
    "x_mse = np.array([2,3,4,5,6,7,8,9,10]).reshape(9,1)\n",
    "y_mse = np.array([30,35,40,44,48,60,66,70,75])\n",
    "lr = LinearRegression()\n",
    "lr.fit(x_mse, y_mse)\n",
    "y_mse_p = lr.predict(x_mse)\n",
    "mse = mean_squared_error(y_mse, y_mse_p)"
   ]
  },
  {
   "cell_type": "code",
   "execution_count": 8,
   "id": "bca6341f",
   "metadata": {},
   "outputs": [
    {
     "data": {
      "text/plain": [
       "3.6870370370370367"
      ]
     },
     "execution_count": 8,
     "metadata": {},
     "output_type": "execute_result"
    }
   ],
   "source": [
    "mse"
   ]
  },
  {
   "cell_type": "markdown",
   "id": "5e3f685f",
   "metadata": {},
   "source": [
    "## Root Mean Squared Error (RMSE)"
   ]
  },
  {
   "cell_type": "code",
   "execution_count": 9,
   "id": "c998c99e",
   "metadata": {},
   "outputs": [
    {
     "data": {
      "image/png": "[encoded data removed]",
      "text/plain": [
       "<IPython.core.display.Image object>"
      ]
     },
     "execution_count": 9,
     "metadata": {},
     "output_type": "execute_result"
    }
   ],
   "source": [
    "from IPython.display import Image\n",
    "Image(\"./DATA INPUT/image_rmse.png\")"
   ]
  },
  {
   "cell_type": "code",
   "execution_count": 10,
   "id": "bf005af6",
   "metadata": {},
   "outputs": [
    {
     "data": {
      "text/plain": [
       "1.9201658878953758"
      ]
     },
     "execution_count": 10,
     "metadata": {},
     "output_type": "execute_result"
    }
   ],
   "source": [
    "rmse = np.sqrt(mse)\n",
    "rmse"
   ]
  },
  {
   "cell_type": "markdown",
   "id": "934e9ccc",
   "metadata": {},
   "source": [
    "## R - Squared"
   ]
  },
  {
   "cell_type": "markdown",
   "id": "302620b1",
   "metadata": {},
   "source": [
    "## $$ R - Squared= \\frac{\\sum_{k=1}^{n}(Y_P - Y_m)^2}{\\sum_{k=1}^{n}(Y_k - Y_m)^2}$$\n",
    "- R-Squared => 1 is best of value predict"
   ]
  },
  {
   "cell_type": "code",
   "execution_count": 11,
   "id": "c89ddf3f",
   "metadata": {},
   "outputs": [],
   "source": [
    "x_rsq = np.array([2,3,4,5,6,7,8,9,10]).reshape(9,1)\n",
    "y_rsq = np.array([30,35,40,44,48,60,66,70,75])\n",
    "lr = LinearRegression()\n",
    "lr.fit(x_rsq, y_rsq)\n",
    "y_rsq_p = lr.predict(x_rsq)\n",
    "r_quared = r2_score(y_rsq, y_rsq_p)"
   ]
  },
  {
   "cell_type": "code",
   "execution_count": 12,
   "id": "3c26d74f",
   "metadata": {},
   "outputs": [
    {
     "data": {
      "text/plain": [
       "0.9842733017377567"
      ]
     },
     "execution_count": 12,
     "metadata": {},
     "output_type": "execute_result"
    }
   ],
   "source": [
    "r_quared"
   ]
  },
  {
   "cell_type": "markdown",
   "id": "51b039f7",
   "metadata": {},
   "source": [
    "# Linear Regression"
   ]
  },
  {
   "cell_type": "markdown",
   "id": "312da3ad",
   "metadata": {},
   "source": [
    "## Linear Regression $(y = ax + b)$"
   ]
  },
  {
   "cell_type": "markdown",
   "id": "7e682896",
   "metadata": {},
   "source": [
    "### $y = \\beta_0 +\\beta_1x_1 + \\beta_2x_2 +...\\beta_nx_n$ "
   ]
  },
  {
   "cell_type": "markdown",
   "id": "da96165c",
   "metadata": {},
   "source": [
    "### Correlation"
   ]
  },
  {
   "cell_type": "code",
   "execution_count": 13,
   "id": "f76e8819",
   "metadata": {},
   "outputs": [],
   "source": [
    "col1 = np.array([2,3,4,5,6,7,8,9,10])\n",
    "col2 = np.array([30,35,40,44,48,60,66,70,75])\n",
    "df = pd.DataFrame(data=[col1, col2]).T"
   ]
  },
  {
   "cell_type": "code",
   "execution_count": 14,
   "id": "eadeb5ce",
   "metadata": {},
   "outputs": [
    {
     "data": {
      "text/html": [
       "<div>\n",
       "<style scoped>\n",
       "    .dataframe tbody tr th:only-of-type {\n",
       "        vertical-align: middle;\n",
       "    }\n",
       "\n",
       "    .dataframe tbody tr th {\n",
       "        vertical-align: top;\n",
       "    }\n",
       "\n",
       "    .dataframe thead th {\n",
       "        text-align: right;\n",
       "    }\n",
       "</style>\n",
       "<table border=\"1\" class=\"dataframe\">\n",
       "  <thead>\n",
       "    <tr style=\"text-align: right;\">\n",
       "      <th></th>\n",
       "      <th>time_stu</th>\n",
       "      <th>point</th>\n",
       "    </tr>\n",
       "  </thead>\n",
       "  <tbody>\n",
       "    <tr>\n",
       "      <th>0</th>\n",
       "      <td>2</td>\n",
       "      <td>30</td>\n",
       "    </tr>\n",
       "    <tr>\n",
       "      <th>1</th>\n",
       "      <td>3</td>\n",
       "      <td>35</td>\n",
       "    </tr>\n",
       "    <tr>\n",
       "      <th>2</th>\n",
       "      <td>4</td>\n",
       "      <td>40</td>\n",
       "    </tr>\n",
       "    <tr>\n",
       "      <th>3</th>\n",
       "      <td>5</td>\n",
       "      <td>44</td>\n",
       "    </tr>\n",
       "    <tr>\n",
       "      <th>4</th>\n",
       "      <td>6</td>\n",
       "      <td>48</td>\n",
       "    </tr>\n",
       "  </tbody>\n",
       "</table>\n",
       "</div>"
      ],
      "text/plain": [
       "   time_stu  point\n",
       "0         2     30\n",
       "1         3     35\n",
       "2         4     40\n",
       "3         5     44\n",
       "4         6     48"
      ]
     },
     "execution_count": 14,
     "metadata": {},
     "output_type": "execute_result"
    }
   ],
   "source": [
    "df = df.rename(columns={0:'time_stu', 1:'point'})\n",
    "df.head()"
   ]
  },
  {
   "cell_type": "code",
   "execution_count": 15,
   "id": "0c5d3489",
   "metadata": {},
   "outputs": [
    {
     "data": {
      "text/html": [
       "<div>\n",
       "<style scoped>\n",
       "    .dataframe tbody tr th:only-of-type {\n",
       "        vertical-align: middle;\n",
       "    }\n",
       "\n",
       "    .dataframe tbody tr th {\n",
       "        vertical-align: top;\n",
       "    }\n",
       "\n",
       "    .dataframe thead th {\n",
       "        text-align: right;\n",
       "    }\n",
       "</style>\n",
       "<table border=\"1\" class=\"dataframe\">\n",
       "  <thead>\n",
       "    <tr style=\"text-align: right;\">\n",
       "      <th></th>\n",
       "      <th>time_stu</th>\n",
       "      <th>point</th>\n",
       "    </tr>\n",
       "  </thead>\n",
       "  <tbody>\n",
       "    <tr>\n",
       "      <th>time_stu</th>\n",
       "      <td>1.000000</td>\n",
       "      <td>0.992105</td>\n",
       "    </tr>\n",
       "    <tr>\n",
       "      <th>point</th>\n",
       "      <td>0.992105</td>\n",
       "      <td>1.000000</td>\n",
       "    </tr>\n",
       "  </tbody>\n",
       "</table>\n",
       "</div>"
      ],
      "text/plain": [
       "          time_stu     point\n",
       "time_stu  1.000000  0.992105\n",
       "point     0.992105  1.000000"
      ]
     },
     "execution_count": 15,
     "metadata": {},
     "output_type": "execute_result"
    }
   ],
   "source": [
    "# corr()\n",
    "df.corr()"
   ]
  },
  {
   "cell_type": "markdown",
   "id": "dccd1a25",
   "metadata": {},
   "source": [
    "### Coefficient And Intercept\n",
    "- in $y = ax + b$\n",
    "- a = coefficient\n",
    "- b = intercept"
   ]
  },
  {
   "cell_type": "code",
   "execution_count": 16,
   "id": "2aae3b59",
   "metadata": {},
   "outputs": [],
   "source": [
    "# Step 1: Prepare Data\n",
    "df.head()\n",
    "x = df.time_stu.values.reshape(9,1)\n",
    "y = df.point.values"
   ]
  },
  {
   "cell_type": "code",
   "execution_count": 17,
   "id": "636a0cd6",
   "metadata": {},
   "outputs": [
    {
     "data": {
      "text/plain": [
       "array([[ 2],\n",
       "       [ 3],\n",
       "       [ 4],\n",
       "       [ 5],\n",
       "       [ 6],\n",
       "       [ 7],\n",
       "       [ 8],\n",
       "       [ 9],\n",
       "       [10]])"
      ]
     },
     "execution_count": 17,
     "metadata": {},
     "output_type": "execute_result"
    }
   ],
   "source": [
    "x"
   ]
  },
  {
   "cell_type": "code",
   "execution_count": 18,
   "id": "c691b81b",
   "metadata": {},
   "outputs": [
    {
     "data": {
      "text/plain": [
       "array([30, 35, 40, 44, 48, 60, 66, 70, 75])"
      ]
     },
     "execution_count": 18,
     "metadata": {},
     "output_type": "execute_result"
    }
   ],
   "source": [
    "y"
   ]
  },
  {
   "cell_type": "code",
   "execution_count": 19,
   "id": "f741bedf",
   "metadata": {},
   "outputs": [],
   "source": [
    "# Steps 2: Model (Algorithrm)\n",
    "lr = LinearRegression()"
   ]
  },
  {
   "cell_type": "code",
   "execution_count": 20,
   "id": "4cb8c7d1",
   "metadata": {},
   "outputs": [
    {
     "data": {
      "text/plain": [
       "LinearRegression()"
      ]
     },
     "execution_count": 20,
     "metadata": {},
     "output_type": "execute_result"
    }
   ],
   "source": [
    "# Steps 3: training fit()\n",
    "lr.fit(x,y)"
   ]
  },
  {
   "cell_type": "code",
   "execution_count": 21,
   "id": "f7ebb7ce",
   "metadata": {},
   "outputs": [
    {
     "data": {
      "text/plain": [
       "array([5.88333333])"
      ]
     },
     "execution_count": 21,
     "metadata": {},
     "output_type": "execute_result"
    }
   ],
   "source": [
    "a = lr.coef_\n",
    "a"
   ]
  },
  {
   "cell_type": "code",
   "execution_count": 22,
   "id": "e0d16f61",
   "metadata": {},
   "outputs": [
    {
     "data": {
      "text/plain": [
       "16.69999999999999"
      ]
     },
     "execution_count": 22,
     "metadata": {},
     "output_type": "execute_result"
    }
   ],
   "source": [
    "b = lr.intercept_\n",
    "b"
   ]
  },
  {
   "cell_type": "markdown",
   "id": "1f4ae7a9",
   "metadata": {},
   "source": [
    "$ => y = 5.88*x + 16.99 $"
   ]
  },
  {
   "cell_type": "code",
   "execution_count": 23,
   "id": "e1b9a8b8",
   "metadata": {},
   "outputs": [
    {
     "data": {
      "text/plain": [
       "array([28.5, 34.3, 40.2, 46.1, 52. , 57.9, 63.8, 69.6, 75.5])"
      ]
     },
     "execution_count": 23,
     "metadata": {},
     "output_type": "execute_result"
    }
   ],
   "source": [
    "# Steps 4: Test Data\n",
    "yp = lr.predict(x)\n",
    "yp.round(1)"
   ]
  },
  {
   "cell_type": "code",
   "execution_count": 24,
   "id": "dc90a181",
   "metadata": {},
   "outputs": [
    {
     "data": {
      "text/plain": [
       "array([30, 35, 40, 44, 48, 60, 66, 70, 75])"
      ]
     },
     "execution_count": 24,
     "metadata": {},
     "output_type": "execute_result"
    }
   ],
   "source": [
    "y"
   ]
  },
  {
   "cell_type": "code",
   "execution_count": 25,
   "id": "95603b35",
   "metadata": {},
   "outputs": [
    {
     "data": {
      "text/plain": [
       "[<matplotlib.lines.Line2D at 0x11bfcb700>]"
      ]
     },
     "execution_count": 25,
     "metadata": {},
     "output_type": "execute_result"
    },
    {
     "data": {
      "image/png": "[encoded data removed]",
      "text/plain": [
       "<Figure size 432x288 with 1 Axes>"
      ]
     },
     "metadata": {
      "needs_background": "light"
     },
     "output_type": "display_data"
    }
   ],
   "source": [
    "plt.plot(x,y, 'r*')\n",
    "plt.plot(x,yp)"
   ]
  },
  {
   "cell_type": "code",
   "execution_count": 26,
   "id": "93f0639a",
   "metadata": {},
   "outputs": [
    {
     "data": {
      "text/plain": [
       "array([122.6])"
      ]
     },
     "execution_count": 26,
     "metadata": {},
     "output_type": "execute_result"
    }
   ],
   "source": [
    "# Steps 5: Predict\n",
    "lr.predict([[18]])"
   ]
  },
  {
   "cell_type": "markdown",
   "id": "34cba023",
   "metadata": {},
   "source": [
    "## Linear Regression ($y = a1.x1 + a2.x2 + ...an.xn + b$)"
   ]
  },
  {
   "cell_type": "code",
   "execution_count": 27,
   "id": "d633ac59",
   "metadata": {},
   "outputs": [],
   "source": [
    "foc = np.array([5,4,2,4,2,3,5,2,1])\n",
    "age = np.array([20,25,40,30,20,30,30,50,15])\n",
    "how_learn = np.array([1,2,4,3,2,2,1,3,2])\n",
    "df2 = pd.DataFrame([foc,age,how_learn]).T"
   ]
  },
  {
   "cell_type": "code",
   "execution_count": 28,
   "id": "a8779bad",
   "metadata": {},
   "outputs": [
    {
     "data": {
      "text/html": [
       "<div>\n",
       "<style scoped>\n",
       "    .dataframe tbody tr th:only-of-type {\n",
       "        vertical-align: middle;\n",
       "    }\n",
       "\n",
       "    .dataframe tbody tr th {\n",
       "        vertical-align: top;\n",
       "    }\n",
       "\n",
       "    .dataframe thead th {\n",
       "        text-align: right;\n",
       "    }\n",
       "</style>\n",
       "<table border=\"1\" class=\"dataframe\">\n",
       "  <thead>\n",
       "    <tr style=\"text-align: right;\">\n",
       "      <th></th>\n",
       "      <th>focus</th>\n",
       "      <th>age</th>\n",
       "      <th>how_learn</th>\n",
       "    </tr>\n",
       "  </thead>\n",
       "  <tbody>\n",
       "    <tr>\n",
       "      <th>0</th>\n",
       "      <td>5</td>\n",
       "      <td>20</td>\n",
       "      <td>1</td>\n",
       "    </tr>\n",
       "    <tr>\n",
       "      <th>1</th>\n",
       "      <td>4</td>\n",
       "      <td>25</td>\n",
       "      <td>2</td>\n",
       "    </tr>\n",
       "    <tr>\n",
       "      <th>2</th>\n",
       "      <td>2</td>\n",
       "      <td>40</td>\n",
       "      <td>4</td>\n",
       "    </tr>\n",
       "    <tr>\n",
       "      <th>3</th>\n",
       "      <td>4</td>\n",
       "      <td>30</td>\n",
       "      <td>3</td>\n",
       "    </tr>\n",
       "    <tr>\n",
       "      <th>4</th>\n",
       "      <td>2</td>\n",
       "      <td>20</td>\n",
       "      <td>2</td>\n",
       "    </tr>\n",
       "    <tr>\n",
       "      <th>5</th>\n",
       "      <td>3</td>\n",
       "      <td>30</td>\n",
       "      <td>2</td>\n",
       "    </tr>\n",
       "    <tr>\n",
       "      <th>6</th>\n",
       "      <td>5</td>\n",
       "      <td>30</td>\n",
       "      <td>1</td>\n",
       "    </tr>\n",
       "    <tr>\n",
       "      <th>7</th>\n",
       "      <td>2</td>\n",
       "      <td>50</td>\n",
       "      <td>3</td>\n",
       "    </tr>\n",
       "    <tr>\n",
       "      <th>8</th>\n",
       "      <td>1</td>\n",
       "      <td>15</td>\n",
       "      <td>2</td>\n",
       "    </tr>\n",
       "  </tbody>\n",
       "</table>\n",
       "</div>"
      ],
      "text/plain": [
       "   focus  age  how_learn\n",
       "0      5   20          1\n",
       "1      4   25          2\n",
       "2      2   40          4\n",
       "3      4   30          3\n",
       "4      2   20          2\n",
       "5      3   30          2\n",
       "6      5   30          1\n",
       "7      2   50          3\n",
       "8      1   15          2"
      ]
     },
     "execution_count": 28,
     "metadata": {},
     "output_type": "execute_result"
    }
   ],
   "source": [
    "df2.rename(columns={0:'focus', 1:'age', 2:'how_learn'})"
   ]
  },
  {
   "cell_type": "code",
   "execution_count": 29,
   "id": "0d8f617a",
   "metadata": {},
   "outputs": [
    {
     "data": {
      "text/html": [
       "<div>\n",
       "<style scoped>\n",
       "    .dataframe tbody tr th:only-of-type {\n",
       "        vertical-align: middle;\n",
       "    }\n",
       "\n",
       "    .dataframe tbody tr th {\n",
       "        vertical-align: top;\n",
       "    }\n",
       "\n",
       "    .dataframe thead th {\n",
       "        text-align: right;\n",
       "    }\n",
       "</style>\n",
       "<table border=\"1\" class=\"dataframe\">\n",
       "  <thead>\n",
       "    <tr style=\"text-align: right;\">\n",
       "      <th></th>\n",
       "      <th>focus</th>\n",
       "      <th>age</th>\n",
       "      <th>how_learn</th>\n",
       "    </tr>\n",
       "  </thead>\n",
       "  <tbody>\n",
       "    <tr>\n",
       "      <th>0</th>\n",
       "      <td>5</td>\n",
       "      <td>20</td>\n",
       "      <td>1</td>\n",
       "    </tr>\n",
       "    <tr>\n",
       "      <th>1</th>\n",
       "      <td>4</td>\n",
       "      <td>25</td>\n",
       "      <td>2</td>\n",
       "    </tr>\n",
       "    <tr>\n",
       "      <th>2</th>\n",
       "      <td>2</td>\n",
       "      <td>40</td>\n",
       "      <td>4</td>\n",
       "    </tr>\n",
       "    <tr>\n",
       "      <th>3</th>\n",
       "      <td>4</td>\n",
       "      <td>30</td>\n",
       "      <td>3</td>\n",
       "    </tr>\n",
       "    <tr>\n",
       "      <th>4</th>\n",
       "      <td>2</td>\n",
       "      <td>20</td>\n",
       "      <td>2</td>\n",
       "    </tr>\n",
       "    <tr>\n",
       "      <th>5</th>\n",
       "      <td>3</td>\n",
       "      <td>30</td>\n",
       "      <td>2</td>\n",
       "    </tr>\n",
       "    <tr>\n",
       "      <th>6</th>\n",
       "      <td>5</td>\n",
       "      <td>30</td>\n",
       "      <td>1</td>\n",
       "    </tr>\n",
       "    <tr>\n",
       "      <th>7</th>\n",
       "      <td>2</td>\n",
       "      <td>50</td>\n",
       "      <td>3</td>\n",
       "    </tr>\n",
       "    <tr>\n",
       "      <th>8</th>\n",
       "      <td>1</td>\n",
       "      <td>15</td>\n",
       "      <td>2</td>\n",
       "    </tr>\n",
       "  </tbody>\n",
       "</table>\n",
       "</div>"
      ],
      "text/plain": [
       "   focus  age  how_learn\n",
       "0      5   20          1\n",
       "1      4   25          2\n",
       "2      2   40          4\n",
       "3      4   30          3\n",
       "4      2   20          2\n",
       "5      3   30          2\n",
       "6      5   30          1\n",
       "7      2   50          3\n",
       "8      1   15          2"
      ]
     },
     "execution_count": 29,
     "metadata": {},
     "output_type": "execute_result"
    }
   ],
   "source": [
    "df2 = df2.rename(columns={0:'focus', 1:'age', 2:'how_learn'})\n",
    "df2"
   ]
  },
  {
   "cell_type": "code",
   "execution_count": 30,
   "id": "bf35a58f",
   "metadata": {},
   "outputs": [
    {
     "data": {
      "text/html": [
       "<div>\n",
       "<style scoped>\n",
       "    .dataframe tbody tr th:only-of-type {\n",
       "        vertical-align: middle;\n",
       "    }\n",
       "\n",
       "    .dataframe tbody tr th {\n",
       "        vertical-align: top;\n",
       "    }\n",
       "\n",
       "    .dataframe thead th {\n",
       "        text-align: right;\n",
       "    }\n",
       "</style>\n",
       "<table border=\"1\" class=\"dataframe\">\n",
       "  <thead>\n",
       "    <tr style=\"text-align: right;\">\n",
       "      <th></th>\n",
       "      <th>time_stu</th>\n",
       "      <th>point</th>\n",
       "      <th>focus</th>\n",
       "      <th>age</th>\n",
       "      <th>how_learn</th>\n",
       "    </tr>\n",
       "  </thead>\n",
       "  <tbody>\n",
       "    <tr>\n",
       "      <th>0</th>\n",
       "      <td>2</td>\n",
       "      <td>30</td>\n",
       "      <td>5</td>\n",
       "      <td>20</td>\n",
       "      <td>1</td>\n",
       "    </tr>\n",
       "    <tr>\n",
       "      <th>1</th>\n",
       "      <td>3</td>\n",
       "      <td>35</td>\n",
       "      <td>4</td>\n",
       "      <td>25</td>\n",
       "      <td>2</td>\n",
       "    </tr>\n",
       "    <tr>\n",
       "      <th>2</th>\n",
       "      <td>4</td>\n",
       "      <td>40</td>\n",
       "      <td>2</td>\n",
       "      <td>40</td>\n",
       "      <td>4</td>\n",
       "    </tr>\n",
       "    <tr>\n",
       "      <th>3</th>\n",
       "      <td>5</td>\n",
       "      <td>44</td>\n",
       "      <td>4</td>\n",
       "      <td>30</td>\n",
       "      <td>3</td>\n",
       "    </tr>\n",
       "    <tr>\n",
       "      <th>4</th>\n",
       "      <td>6</td>\n",
       "      <td>48</td>\n",
       "      <td>2</td>\n",
       "      <td>20</td>\n",
       "      <td>2</td>\n",
       "    </tr>\n",
       "    <tr>\n",
       "      <th>5</th>\n",
       "      <td>7</td>\n",
       "      <td>60</td>\n",
       "      <td>3</td>\n",
       "      <td>30</td>\n",
       "      <td>2</td>\n",
       "    </tr>\n",
       "    <tr>\n",
       "      <th>6</th>\n",
       "      <td>8</td>\n",
       "      <td>66</td>\n",
       "      <td>5</td>\n",
       "      <td>30</td>\n",
       "      <td>1</td>\n",
       "    </tr>\n",
       "    <tr>\n",
       "      <th>7</th>\n",
       "      <td>9</td>\n",
       "      <td>70</td>\n",
       "      <td>2</td>\n",
       "      <td>50</td>\n",
       "      <td>3</td>\n",
       "    </tr>\n",
       "    <tr>\n",
       "      <th>8</th>\n",
       "      <td>10</td>\n",
       "      <td>75</td>\n",
       "      <td>1</td>\n",
       "      <td>15</td>\n",
       "      <td>2</td>\n",
       "    </tr>\n",
       "  </tbody>\n",
       "</table>\n",
       "</div>"
      ],
      "text/plain": [
       "   time_stu  point  focus  age  how_learn\n",
       "0         2     30      5   20          1\n",
       "1         3     35      4   25          2\n",
       "2         4     40      2   40          4\n",
       "3         5     44      4   30          3\n",
       "4         6     48      2   20          2\n",
       "5         7     60      3   30          2\n",
       "6         8     66      5   30          1\n",
       "7         9     70      2   50          3\n",
       "8        10     75      1   15          2"
      ]
     },
     "execution_count": 30,
     "metadata": {},
     "output_type": "execute_result"
    }
   ],
   "source": [
    "dt = pd.concat([df,df2], axis=1)\n",
    "dt"
   ]
  },
  {
   "cell_type": "code",
   "execution_count": 31,
   "id": "77996ebd",
   "metadata": {},
   "outputs": [],
   "source": [
    "# Step 1: Prepare Data\n",
    "x_ = np.array(dt.iloc[:,2:].values)\n",
    "x_time = np.array(dt.iloc[:,0].values).reshape(9,1)\n",
    "x1 = np.concatenate((x_,x_time), axis=1)\n",
    "y1 = np.array(dt.point)"
   ]
  },
  {
   "cell_type": "code",
   "execution_count": 32,
   "id": "365b1c0c",
   "metadata": {},
   "outputs": [
    {
     "data": {
      "text/plain": [
       "array([[ 5, 20,  1,  2],\n",
       "       [ 4, 25,  2,  3],\n",
       "       [ 2, 40,  4,  4],\n",
       "       [ 4, 30,  3,  5],\n",
       "       [ 2, 20,  2,  6],\n",
       "       [ 3, 30,  2,  7],\n",
       "       [ 5, 30,  1,  8],\n",
       "       [ 2, 50,  3,  9],\n",
       "       [ 1, 15,  2, 10]])"
      ]
     },
     "execution_count": 32,
     "metadata": {},
     "output_type": "execute_result"
    }
   ],
   "source": [
    "x1"
   ]
  },
  {
   "cell_type": "code",
   "execution_count": 33,
   "id": "511b64e7",
   "metadata": {},
   "outputs": [
    {
     "data": {
      "text/plain": [
       "array([30, 35, 40, 44, 48, 60, 66, 70, 75])"
      ]
     },
     "execution_count": 33,
     "metadata": {},
     "output_type": "execute_result"
    }
   ],
   "source": [
    "y1"
   ]
  },
  {
   "cell_type": "code",
   "execution_count": 34,
   "id": "6b315f9d",
   "metadata": {},
   "outputs": [],
   "source": [
    "# Steps 2: Model\n",
    "lr1 = LinearRegression()"
   ]
  },
  {
   "cell_type": "code",
   "execution_count": 35,
   "id": "e1463b8e",
   "metadata": {},
   "outputs": [
    {
     "data": {
      "text/plain": [
       "LinearRegression()"
      ]
     },
     "execution_count": 35,
     "metadata": {},
     "output_type": "execute_result"
    }
   ],
   "source": [
    "# Steps 3: Training\n",
    "lr1.fit(x1,y1)"
   ]
  },
  {
   "cell_type": "code",
   "execution_count": 36,
   "id": "e45253af",
   "metadata": {},
   "outputs": [
    {
     "data": {
      "text/plain": [
       "array([29.6, 34.4, 38.8, 45.3, 51. , 58.3, 66. , 70.8, 73.7])"
      ]
     },
     "execution_count": 36,
     "metadata": {},
     "output_type": "execute_result"
    }
   ],
   "source": [
    "# Steps 4: Test data\n",
    "yp = lr1.predict(x1)\n",
    "yp.round(1)"
   ]
  },
  {
   "cell_type": "code",
   "execution_count": 37,
   "id": "64d0ab19",
   "metadata": {},
   "outputs": [
    {
     "data": {
      "text/plain": [
       "array([30, 35, 40, 44, 48, 60, 66, 70, 75])"
      ]
     },
     "execution_count": 37,
     "metadata": {},
     "output_type": "execute_result"
    }
   ],
   "source": [
    "y1"
   ]
  },
  {
   "cell_type": "code",
   "execution_count": 38,
   "id": "845f28c4",
   "metadata": {},
   "outputs": [
    {
     "data": {
      "image/png": "[encoded data removed]",
      "text/plain": [
       "<Figure size 432x288 with 1 Axes>"
      ]
     },
     "metadata": {
      "needs_background": "light"
     },
     "output_type": "display_data"
    }
   ],
   "source": [
    "plt.plot(x1,y1, 'r*');\n",
    "plt.plot(x1,yp);"
   ]
  },
  {
   "cell_type": "code",
   "execution_count": 39,
   "id": "94465511",
   "metadata": {},
   "outputs": [
    {
     "data": {
      "text/plain": [
       "array([63.72643172])"
      ]
     },
     "execution_count": 39,
     "metadata": {},
     "output_type": "execute_result"
    }
   ],
   "source": [
    "# Steps 5: Predict\n",
    "lr1.predict([[2,40,3,8]])"
   ]
  },
  {
   "cell_type": "markdown",
   "id": "043f0bb3",
   "metadata": {},
   "source": [
    " ## Non- Linear Regression $(y = ax^3 + bx^2 + cx + d)$"
   ]
  },
  {
   "cell_type": "markdown",
   "id": "8d9d2aa6",
   "metadata": {},
   "source": [
    "## Polynominal Regression $(y = ax^4 + bx^3 + cx^2 + dx + m)$"
   ]
  },
  {
   "cell_type": "code",
   "execution_count": 40,
   "id": "87e865ea",
   "metadata": {},
   "outputs": [],
   "source": [
    "x = np.array([2,3,4,5,6,7,8,9,10]).reshape(9,1)\n",
    "y = np.array([30,35,40,44,48,60,66,70,75])\n",
    "lr = LinearRegression()\n",
    "model = make_pipeline(PolynomialFeatures(2), lr)\n",
    "model.fit(x, y)\n",
    "y_predict = model.predict(x)"
   ]
  },
  {
   "cell_type": "code",
   "execution_count": 41,
   "id": "0565f674",
   "metadata": {},
   "outputs": [
    {
     "name": "stdout",
     "output_type": "stream",
     "text": [
      "R-Squared is:  0.9859489957120289\n"
     ]
    },
    {
     "data": {
      "image/png": "[encoded data removed]",
      "text/plain": [
       "<Figure size 432x288 with 1 Axes>"
      ]
     },
     "metadata": {
      "needs_background": "light"
     },
     "output_type": "display_data"
    }
   ],
   "source": [
    "# distance between y and y_predict\n",
    "r_sqr = r2_score(y,y_predict)\n",
    "print('R-Squared is: ' ,r_sqr)\n",
    "plt.plot(x, y, 'r*', label='y');\n",
    "plt.plot(x,y_predict, label='y_predict');\n",
    "plt.legend();"
   ]
  },
  {
   "cell_type": "markdown",
   "id": "23d0b6b3",
   "metadata": {},
   "source": [
    "# Training And Testing Data | Underfit And Overfit"
   ]
  },
  {
   "cell_type": "code",
   "execution_count": 42,
   "id": "5e8197d6",
   "metadata": {},
   "outputs": [],
   "source": [
    "x = np.array([2,3,4,5,6,7,8,9,10]).reshape(9,1)\n",
    "y = np.array([30,35,40,44,48,60,66,70,75])\n",
    "x_train, x_test, y_train, y_test = train_test_split(x, y, test_size=.2, random_state=42)\n",
    "lr = LinearRegression()\n",
    "model2 = make_pipeline(PolynomialFeatures(4),lr)"
   ]
  },
  {
   "cell_type": "code",
   "execution_count": 43,
   "id": "e06a9bf3",
   "metadata": {},
   "outputs": [
    {
     "data": {
      "text/plain": [
       "array([[ 7],\n",
       "       [ 2],\n",
       "       [10],\n",
       "       [ 4],\n",
       "       [ 6],\n",
       "       [ 5],\n",
       "       [ 8]])"
      ]
     },
     "execution_count": 43,
     "metadata": {},
     "output_type": "execute_result"
    }
   ],
   "source": [
    "x_train"
   ]
  },
  {
   "cell_type": "code",
   "execution_count": 44,
   "id": "9676c2f1",
   "metadata": {},
   "outputs": [
    {
     "data": {
      "text/plain": [
       "array([60, 30, 75, 40, 48, 44, 66])"
      ]
     },
     "execution_count": 44,
     "metadata": {},
     "output_type": "execute_result"
    }
   ],
   "source": [
    "y_train"
   ]
  },
  {
   "cell_type": "code",
   "execution_count": 45,
   "id": "e0c335d6",
   "metadata": {},
   "outputs": [
    {
     "data": {
      "text/plain": [
       "array([[9],\n",
       "       [3]])"
      ]
     },
     "execution_count": 45,
     "metadata": {},
     "output_type": "execute_result"
    }
   ],
   "source": [
    "x_test"
   ]
  },
  {
   "cell_type": "code",
   "execution_count": 46,
   "id": "8080f1f2",
   "metadata": {},
   "outputs": [
    {
     "data": {
      "text/plain": [
       "array([70, 35])"
      ]
     },
     "execution_count": 46,
     "metadata": {},
     "output_type": "execute_result"
    }
   ],
   "source": [
    "y_test"
   ]
  },
  {
   "cell_type": "code",
   "execution_count": 47,
   "id": "6b8da1bf",
   "metadata": {},
   "outputs": [],
   "source": [
    "# training\n",
    "model2.fit(x_train, y_train)\n",
    "y_train_pre = model2.predict(x_train)\n",
    "r_train = r2_score(y_train, y_train_pre)"
   ]
  },
  {
   "cell_type": "code",
   "execution_count": 48,
   "id": "da4b41b6",
   "metadata": {},
   "outputs": [
    {
     "data": {
      "text/plain": [
       "array([57.87940729, 30.03864445, 74.92379851, 39.80134068, 49.69006669,\n",
       "       43.71694231, 66.94980007])"
      ]
     },
     "execution_count": 48,
     "metadata": {},
     "output_type": "execute_result"
    }
   ],
   "source": [
    "y_train_pre"
   ]
  },
  {
   "cell_type": "code",
   "execution_count": 49,
   "id": "6417a212",
   "metadata": {},
   "outputs": [],
   "source": [
    "# testing\n",
    "model2.fit(x_test, y_test)\n",
    "y_test_pre = model2.predict(x_test)\n",
    "r_test = r2_score(y_test, y_test_pre)"
   ]
  },
  {
   "cell_type": "code",
   "execution_count": 50,
   "id": "2bca8972",
   "metadata": {},
   "outputs": [
    {
     "data": {
      "text/plain": [
       "array([70., 35.])"
      ]
     },
     "execution_count": 50,
     "metadata": {},
     "output_type": "execute_result"
    }
   ],
   "source": [
    "y_test_pre"
   ]
  },
  {
   "cell_type": "code",
   "execution_count": 51,
   "id": "658c5700",
   "metadata": {},
   "outputs": [
    {
     "name": "stdout",
     "output_type": "stream",
     "text": [
      "Training R-Squared is:  0.9944001027054599\n"
     ]
    },
    {
     "data": {
      "image/png": "[encoded data removed]",
      "text/plain": [
       "<Figure size 432x288 with 1 Axes>"
      ]
     },
     "metadata": {
      "needs_background": "light"
     },
     "output_type": "display_data"
    }
   ],
   "source": [
    "print('Training R-Squared is: ', r_train)\n",
    "plt.plot(x_train, y_train, 'g*', label='True Values');\n",
    "plt.plot(x_train, y_train_pre, 'r', label='Predict Values');\n",
    "plt.legend();"
   ]
  },
  {
   "cell_type": "code",
   "execution_count": 52,
   "id": "436e68ea",
   "metadata": {},
   "outputs": [
    {
     "name": "stdout",
     "output_type": "stream",
     "text": [
      "Testing R-Squared is:  1.0\n"
     ]
    },
    {
     "data": {
      "image/png": "[encoded data removed]",
      "text/plain": [
       "<Figure size 432x288 with 1 Axes>"
      ]
     },
     "metadata": {
      "needs_background": "light"
     },
     "output_type": "display_data"
    }
   ],
   "source": [
    "print('Testing R-Squared is: ', r_test)\n",
    "plt.plot(x_test, y_test, 'g*', label='True Values');\n",
    "plt.plot(x_test, y_test_pre, 'r', label='Predict Values');\n",
    "plt.legend();"
   ]
  }
 ],
 "metadata": {
  "kernelspec": {
   "display_name": "Python 3",
   "language": "python",
   "name": "python3"
  },
  "language_info": {
   "codemirror_mode": {
    "name": "ipython",
    "version": 3
   },
   "file_extension": ".py",
   "mimetype": "text/x-python",
   "name": "python",
   "nbconvert_exporter": "python",
   "pygments_lexer": "ipython3",
   "version": "3.8.8"
  }
 },
 "nbformat": 4,
 "nbformat_minor": 5
}
