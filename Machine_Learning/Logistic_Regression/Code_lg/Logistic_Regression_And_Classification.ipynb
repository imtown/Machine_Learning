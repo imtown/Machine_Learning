{
 "cells": [
  {
   "cell_type": "markdown",
   "id": "3f361def",
   "metadata": {},
   "source": [
    "# [Machine Learning] Supervised Learning\n",
    "# Logistic Regression\n",
    "# $y = \\frac{1}{1+e^{-(ax+b)}} $\n",
    "- Sigmoid function: 0 => 1"
   ]
  },
  {
   "cell_type": "markdown",
   "id": "ef00a34c",
   "metadata": {},
   "source": [
    "## Import Libraries"
   ]
  },
  {
   "cell_type": "code",
   "execution_count": 1,
   "id": "6638d274",
   "metadata": {},
   "outputs": [],
   "source": [
    "import numpy as np\n",
    "import pandas as pd\n",
    "import seaborn as sns\n",
    "import matplotlib.pyplot as plt\n",
    "from sklearn.linear_model import LogisticRegression\n",
    "from sklearn.metrics import r2_score, accuracy_score, confusion_matrix, classification_report, roc_curve, auc\n",
    "from sklearn.model_selection import train_test_split"
   ]
  },
  {
   "cell_type": "markdown",
   "id": "767adbe8",
   "metadata": {},
   "source": [
    "## Logistic Regression"
   ]
  },
  {
   "cell_type": "code",
   "execution_count": 2,
   "id": "b9b4a453",
   "metadata": {},
   "outputs": [],
   "source": [
    "x = np.array([2,3,4,5,6,7,8,9,10]).reshape(9,1)\n",
    "y = np.array([0,0,0,0,0,1,1,1,1])"
   ]
  },
  {
   "cell_type": "code",
   "execution_count": 3,
   "id": "a5e84b92",
   "metadata": {},
   "outputs": [],
   "source": [
    "lg = LogisticRegression()\n",
    "lg.fit(x,y)\n",
    "y_predict = lg.predict(x)\n",
    "r_score = r2_score(y,y_predict)"
   ]
  },
  {
   "cell_type": "code",
   "execution_count": 4,
   "id": "d0ed4472",
   "metadata": {},
   "outputs": [
    {
     "data": {
      "text/plain": [
       "array([0, 0, 0, 0, 0, 1, 1, 1, 1])"
      ]
     },
     "execution_count": 4,
     "metadata": {},
     "output_type": "execute_result"
    }
   ],
   "source": [
    "y_predict"
   ]
  },
  {
   "cell_type": "code",
   "execution_count": 5,
   "id": "f3e21cf5",
   "metadata": {},
   "outputs": [
    {
     "name": "stdout",
     "output_type": "stream",
     "text": [
      "R-Squared is:  1.0\n"
     ]
    },
    {
     "data": {
      "image/png": "[encoded data removed]",
      "text/plain": [
       "<Figure size 432x288 with 1 Axes>"
      ]
     },
     "metadata": {
      "needs_background": "light"
     },
     "output_type": "display_data"
    }
   ],
   "source": [
    "print('R-Squared is: ', r_score)\n",
    "plt.plot(x,y,'r*', label='y');\n",
    "plt.plot(x,y_predict, label='y_predict');\n",
    "plt.legend();"
   ]
  },
  {
   "cell_type": "markdown",
   "id": "f58c7c87",
   "metadata": {},
   "source": [
    "# Training And Testing Split"
   ]
  },
  {
   "cell_type": "code",
   "execution_count": 6,
   "id": "cc30c24d",
   "metadata": {},
   "outputs": [],
   "source": [
    "x_train, x_test, y_train, y_test = train_test_split(x,y,test_size=.7, random_state=0)"
   ]
  },
  {
   "cell_type": "code",
   "execution_count": 7,
   "id": "dcc55405",
   "metadata": {},
   "outputs": [
    {
     "data": {
      "text/plain": [
       "array([[2],\n",
       "       [7]])"
      ]
     },
     "execution_count": 7,
     "metadata": {},
     "output_type": "execute_result"
    }
   ],
   "source": [
    "x_train"
   ]
  },
  {
   "cell_type": "code",
   "execution_count": 8,
   "id": "fa56b61a",
   "metadata": {},
   "outputs": [
    {
     "data": {
      "text/plain": [
       "array([[ 9],\n",
       "       [ 4],\n",
       "       [ 3],\n",
       "       [ 6],\n",
       "       [10],\n",
       "       [ 8],\n",
       "       [ 5]])"
      ]
     },
     "execution_count": 8,
     "metadata": {},
     "output_type": "execute_result"
    }
   ],
   "source": [
    "x_test"
   ]
  },
  {
   "cell_type": "code",
   "execution_count": 9,
   "id": "cc841484",
   "metadata": {},
   "outputs": [
    {
     "data": {
      "text/plain": [
       "array([0, 1])"
      ]
     },
     "execution_count": 9,
     "metadata": {},
     "output_type": "execute_result"
    }
   ],
   "source": [
    "y_train"
   ]
  },
  {
   "cell_type": "code",
   "execution_count": 10,
   "id": "2e2af96d",
   "metadata": {},
   "outputs": [
    {
     "data": {
      "text/plain": [
       "array([1, 0, 0, 0, 1, 1, 0])"
      ]
     },
     "execution_count": 10,
     "metadata": {},
     "output_type": "execute_result"
    }
   ],
   "source": [
    "y_test"
   ]
  },
  {
   "cell_type": "code",
   "execution_count": 11,
   "id": "bc5c9f06",
   "metadata": {},
   "outputs": [],
   "source": [
    "lg.fit(x_train,y_train)\n",
    "y_pre = lg.predict(x_train)"
   ]
  },
  {
   "cell_type": "code",
   "execution_count": 12,
   "id": "1193b8d2",
   "metadata": {},
   "outputs": [
    {
     "data": {
      "text/plain": [
       "array([0, 1])"
      ]
     },
     "execution_count": 12,
     "metadata": {},
     "output_type": "execute_result"
    }
   ],
   "source": [
    "y_pre"
   ]
  },
  {
   "cell_type": "code",
   "execution_count": 13,
   "id": "cab2d68c",
   "metadata": {},
   "outputs": [],
   "source": [
    "r_squared = r2_score(y_train,y_pre)"
   ]
  },
  {
   "cell_type": "code",
   "execution_count": 14,
   "id": "ff90f299",
   "metadata": {},
   "outputs": [
    {
     "name": "stdout",
     "output_type": "stream",
     "text": [
      "R-Squared is:  1.0\n"
     ]
    },
    {
     "data": {
      "image/png": "[encoded data removed]",
      "text/plain": [
       "<Figure size 432x288 with 1 Axes>"
      ]
     },
     "metadata": {
      "needs_background": "light"
     },
     "output_type": "display_data"
    }
   ],
   "source": [
    "print('R-Squared is: ', r_squared)\n",
    "plt.plot(x_train,y_train,'r*', label='y');\n",
    "plt.plot(x_train,y_pre, label='y_predict');\n",
    "plt.legend();"
   ]
  },
  {
   "cell_type": "markdown",
   "id": "5abe054f",
   "metadata": {},
   "source": [
    "# Accuracy And Confusion Matrix"
   ]
  },
  {
   "cell_type": "markdown",
   "id": "42b30851",
   "metadata": {},
   "source": [
    "## Accuracy\n",
    "- score(x,y)\n",
    "- accuracy_score(x,$y_p$)"
   ]
  },
  {
   "cell_type": "code",
   "execution_count": 15,
   "id": "abfe6e12",
   "metadata": {},
   "outputs": [
    {
     "data": {
      "text/plain": [
       "0.7142857142857143"
      ]
     },
     "execution_count": 15,
     "metadata": {},
     "output_type": "execute_result"
    }
   ],
   "source": [
    "# accuracy by score\n",
    "score = lg.score(x_test,y_test)\n",
    "score"
   ]
  },
  {
   "cell_type": "code",
   "execution_count": 16,
   "id": "ff5cfe85",
   "metadata": {},
   "outputs": [
    {
     "data": {
      "text/plain": [
       "1.0"
      ]
     },
     "execution_count": 16,
     "metadata": {},
     "output_type": "execute_result"
    }
   ],
   "source": [
    "# accuracy by accuracy_score\n",
    "ac_score = accuracy_score(y_train, y_pre)\n",
    "ac_score"
   ]
  },
  {
   "cell_type": "markdown",
   "id": "8083a5f3",
   "metadata": {},
   "source": [
    "## Confusion Matrix"
   ]
  },
  {
   "cell_type": "code",
   "execution_count": 17,
   "id": "f3ba80c9",
   "metadata": {},
   "outputs": [
    {
     "data": {
      "text/plain": [
       "array([[1, 0],\n",
       "       [0, 1]])"
      ]
     },
     "execution_count": 17,
     "metadata": {},
     "output_type": "execute_result"
    }
   ],
   "source": [
    "cm =confusion_matrix(y_train, y_pre)\n",
    "cm"
   ]
  },
  {
   "cell_type": "markdown",
   "id": "4238c277",
   "metadata": {},
   "source": [
    "### Accuracy\n",
    "### $ACCURACY = \\frac{TN+TP}{TN+TP+FN+FP}$"
   ]
  },
  {
   "cell_type": "markdown",
   "id": "4d4755ff",
   "metadata": {},
   "source": [
    "### False Positive Rate\n",
    "### $FPR = \\frac{FP}{FP+TN}$"
   ]
  },
  {
   "cell_type": "markdown",
   "id": "e107a146",
   "metadata": {},
   "source": [
    "### False Nagative Rate\n",
    "### $FNR = \\frac{FN}{FN+TP}$"
   ]
  },
  {
   "cell_type": "markdown",
   "id": "a0dadf20",
   "metadata": {},
   "source": [
    "### True Positive Rate\n",
    "### $TPR = \\frac{TP}{TP+FP}$"
   ]
  },
  {
   "cell_type": "markdown",
   "id": "c43dd182",
   "metadata": {},
   "source": [
    "### True Nagative Rate\n",
    "### $TNR = \\frac{TN}{TN+FN}$"
   ]
  },
  {
   "cell_type": "markdown",
   "id": "1474b2b3",
   "metadata": {},
   "source": [
    "## Precision and Recall"
   ]
  },
  {
   "cell_type": "markdown",
   "id": "a7913b04",
   "metadata": {},
   "source": [
    "### Precision\n",
    "### $PRECISON = \\frac{TP}{TP+FP}$"
   ]
  },
  {
   "cell_type": "markdown",
   "id": "2b3e6e1e",
   "metadata": {},
   "source": [
    "### Recall\n",
    "### $RECALL = \\frac{TP}{TP+FN}$"
   ]
  },
  {
   "cell_type": "markdown",
   "id": "3c6dbbb7",
   "metadata": {},
   "source": [
    "### Example"
   ]
  },
  {
   "cell_type": "code",
   "execution_count": 18,
   "id": "99ec2636",
   "metadata": {},
   "outputs": [],
   "source": [
    "x_train, x_test, y_train, y_test = train_test_split(x,y,test_size=.5, random_state=42)\n",
    "lg.fit(x_train,y_train)\n",
    "y_train_pre = lg.predict(x_train)"
   ]
  },
  {
   "cell_type": "code",
   "execution_count": 19,
   "id": "5ad91e05",
   "metadata": {},
   "outputs": [],
   "source": [
    "report = classification_report(y_train,y_train_pre)\n",
    "precision = accuracy_score(y_train,y_train_pre)\n",
    "conf = confusion_matrix(y_train, y_train_pre)"
   ]
  },
  {
   "cell_type": "code",
   "execution_count": 20,
   "id": "6af5a519",
   "metadata": {},
   "outputs": [
    {
     "name": "stdout",
     "output_type": "stream",
     "text": [
      "Precision is:  1.0\n",
      "Confusion Matrix: \n",
      " [[3 0]\n",
      " [0 1]]\n",
      "y_train:  [0 0 0 1]\n",
      "y_train_predict:  [0 0 0 1]\n",
      "Report table:\n",
      "               precision    recall  f1-score   support\n",
      "\n",
      "           0       1.00      1.00      1.00         3\n",
      "           1       1.00      1.00      1.00         1\n",
      "\n",
      "    accuracy                           1.00         4\n",
      "   macro avg       1.00      1.00      1.00         4\n",
      "weighted avg       1.00      1.00      1.00         4\n",
      "\n"
     ]
    }
   ],
   "source": [
    "print('Precision is: ',precision)\n",
    "print('Confusion Matrix: \\n',conf)\n",
    "print('y_train: ',y_train)\n",
    "print('y_train_predict: ',y_train_pre)\n",
    "print('Report table:\\n',report)"
   ]
  },
  {
   "cell_type": "markdown",
   "id": "1143c85c",
   "metadata": {},
   "source": [
    "## F1-Score"
   ]
  },
  {
   "cell_type": "markdown",
   "id": "f7400deb",
   "metadata": {},
   "source": [
    "### $F1-Score = 2\\frac {precison.recall}{ precision+recall}$\n",
    "- Perfect case F1_Score = 1"
   ]
  },
  {
   "cell_type": "markdown",
   "id": "1d4b164a",
   "metadata": {},
   "source": [
    "### $F_\\beta = (1+\\beta^2) \\frac{precision.recall}{precision+recall}$\t\n",
    "- if choice precision then $\\beta$  < 1 (normal 0.5)\n",
    "- if choice recall then $\\beta$  > 1 (normal 2)"
   ]
  },
  {
   "cell_type": "markdown",
   "id": "a4eb9da5",
   "metadata": {},
   "source": [
    "## Predict Probability"
   ]
  },
  {
   "cell_type": "code",
   "execution_count": 21,
   "id": "e0ef5d0e",
   "metadata": {},
   "outputs": [],
   "source": [
    "x_train, x_test, y_train, y_test = train_test_split(x,y,test_size=.5, random_state=42)\n",
    "lg.fit(x_test,y_test)\n",
    "y_test_pre = lg.predict(x_test)"
   ]
  },
  {
   "cell_type": "code",
   "execution_count": 22,
   "id": "ba906fee",
   "metadata": {},
   "outputs": [],
   "source": [
    "report = classification_report(y_test,y_test_pre)\n",
    "precision = accuracy_score(y_test,y_test_pre)\n",
    "cm = confusion_matrix(y_test,y_test_pre)\n",
    "predict_pro = lg.predict_proba(x_test)[:,1]"
   ]
  },
  {
   "cell_type": "code",
   "execution_count": 23,
   "id": "7a62189c",
   "metadata": {},
   "outputs": [
    {
     "name": "stdout",
     "output_type": "stream",
     "text": [
      "Precision is:  1.0\n",
      "Confusion Matrix: \n",
      " [[2 0]\n",
      " [0 3]]\n",
      "y_test:  [1 0 1 0 1]\n",
      "y_test_predict:  [1 0 1 0 1]\n",
      "Predict_Probability: \n",
      " [0.97200154 0.13161457 0.85016374 0.05773522 0.98848894]\n",
      "Report table:\n",
      "               precision    recall  f1-score   support\n",
      "\n",
      "           0       1.00      1.00      1.00         2\n",
      "           1       1.00      1.00      1.00         3\n",
      "\n",
      "    accuracy                           1.00         5\n",
      "   macro avg       1.00      1.00      1.00         5\n",
      "weighted avg       1.00      1.00      1.00         5\n",
      "\n"
     ]
    }
   ],
   "source": [
    "print('Precision is: ',precision)\n",
    "print('Confusion Matrix: \\n',cm)\n",
    "print('y_test: ',y_test)\n",
    "print('y_test_predict: ',y_test_pre)\n",
    "print('Predict_Probability: \\n', predict_pro)\n",
    "print('Report table:\\n',report)"
   ]
  },
  {
   "cell_type": "code",
   "execution_count": 24,
   "id": "0cc40e89",
   "metadata": {},
   "outputs": [
    {
     "data": {
      "text/plain": [
       "array([0.30359752])"
      ]
     },
     "execution_count": 24,
     "metadata": {},
     "output_type": "execute_result"
    }
   ],
   "source": [
    "lg.predict_proba([[6]])[:,0]"
   ]
  },
  {
   "cell_type": "markdown",
   "id": "87a97add",
   "metadata": {},
   "source": [
    "## Sensitivity and Specificity\n",
    "### $Specificity = \\frac{TN}{TN+FP}$\n",
    "### $Sensitivity = Recall$"
   ]
  },
  {
   "cell_type": "markdown",
   "id": "b3ea6a8f",
   "metadata": {},
   "source": [
    "## ROC(Receiver Operating Characteristics) and AUC (Area Under the Curve)"
   ]
  },
  {
   "cell_type": "code",
   "execution_count": 25,
   "id": "c5ac955a",
   "metadata": {},
   "outputs": [],
   "source": [
    "fpr, tpr, _ =roc_curve(y_test,predict_pro)\n",
    "auc = auc(fpr,tpr)"
   ]
  },
  {
   "cell_type": "code",
   "execution_count": 26,
   "id": "960fad20",
   "metadata": {},
   "outputs": [
    {
     "data": {
      "text/plain": [
       "Text(0.5, 1.0, 'ROC')"
      ]
     },
     "execution_count": 26,
     "metadata": {},
     "output_type": "execute_result"
    },
    {
     "data": {
      "image/png": "[encoded data removed]",
      "text/plain": [
       "<Figure size 432x288 with 1 Axes>"
      ]
     },
     "metadata": {
      "needs_background": "light"
     },
     "output_type": "display_data"
    }
   ],
   "source": [
    "plt.plot(fpr, tpr, label='ROC Curve AUC=%.1f'%auc);\n",
    "plt.legend();\n",
    "plt.xlabel('FPR')\n",
    "plt.ylabel('TPR')\n",
    "plt.title('ROC')"
   ]
  }
 ],
 "metadata": {
  "kernelspec": {
   "display_name": "Python 3",
   "language": "python",
   "name": "python3"
  },
  "language_info": {
   "codemirror_mode": {
    "name": "ipython",
    "version": 3
   },
   "file_extension": ".py",
   "mimetype": "text/x-python",
   "name": "python",
   "nbconvert_exporter": "python",
   "pygments_lexer": "ipython3",
   "version": "3.8.8"
  }
 },
 "nbformat": 4,
 "nbformat_minor": 5
}
